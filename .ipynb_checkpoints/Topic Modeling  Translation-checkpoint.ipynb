{
 "cells": [
  {
   "cell_type": "markdown",
   "id": "4e274896",
   "metadata": {},
   "source": [
    "# NLP Topic Modeling w/Enviro Policy Using Spacy Language Models\n"
   ]
  },
  {
   "cell_type": "markdown",
   "id": "41a0dc51",
   "metadata": {},
   "source": [
    "Using the paper *Beyond modeling: NLP Pipeline for efficient environmental policy analysis* [Planas et al.(2022)](https://arxiv.org/abs/2201.07105) by  and their recommended Knowledge Management Framework, I designed a NLP workflow with PythonGPT and Mistral to carry out Topic Modeling on a single page of the 2014 French National Agroecology policy **La loi d'avenir pour l'agriculture, l'alimentation et la forêt**"
   ]
  },
  {
   "cell_type": "code",
   "execution_count": null,
   "id": "6c7cfce9",
   "metadata": {},
   "outputs": [],
   "source": [
    "#next steps: open a new notebook\n",
    "#use python GPT to complete 'assignment'\n",
    "#Graduate Level Assignment: Topic Modeling on Translated Sentences from PDF Using spaCy French Model\n",
    "\n",
    "#Next feed Loi pdf to ChatGPT and see how it does with translation"
   ]
  },
  {
   "cell_type": "code",
   "execution_count": 2,
   "id": "aa6e6039",
   "metadata": {},
   "outputs": [
    {
     "name": "stdout",
     "output_type": "stream",
     "text": [
      "Requirement already satisfied: scikit-learn in /Users/jenniferbadger/opt/anaconda3/lib/python3.8/site-packages (1.2.1)\r\n",
      "Requirement already satisfied: numpy>=1.17.3 in /Users/jenniferbadger/opt/anaconda3/lib/python3.8/site-packages (from scikit-learn) (1.24.1)\r\n",
      "Requirement already satisfied: scipy>=1.3.2 in /Users/jenniferbadger/opt/anaconda3/lib/python3.8/site-packages (from scikit-learn) (1.10.1)\r\n",
      "Requirement already satisfied: joblib>=1.1.1 in /Users/jenniferbadger/opt/anaconda3/lib/python3.8/site-packages (from scikit-learn) (1.4.2)\r\n",
      "Requirement already satisfied: threadpoolctl>=2.0.0 in /Users/jenniferbadger/opt/anaconda3/lib/python3.8/site-packages (from scikit-learn) (3.5.0)\r\n"
     ]
    }
   ],
   "source": [
    "#previously installed\n",
    "#!pip install pymupdf \n",
    "#!pip install googletrans==4.0.0-rc1 \n",
    "#!pip install nltk\n",
    "#!pip install spacy\n",
    "\n",
    "#!pip install gensim \n",
    "#!pip install pyLDAvis\n",
    "#!pip install scikit-learn"
   ]
  },
  {
   "cell_type": "markdown",
   "id": "5f34bc15",
   "metadata": {},
   "source": [
    "### Pre-NLP: import libraries"
   ]
  },
  {
   "cell_type": "code",
   "execution_count": 9,
   "id": "942d1aeb",
   "metadata": {},
   "outputs": [],
   "source": [
    "#Step 1: Extract Text from PDF\n",
    "import fitz  # PyMuPDF\n",
    "\n",
    "\n",
    "#Step 3: Preprocess the French Sentences\n",
    "import spacy\n",
    "from nltk.tokenize import sent_tokenize\n",
    "\n",
    "#Step 4: Translate the Sentences\n",
    "from googletrans import Translator\n",
    "\n",
    "#Step 5: Perform Topic Modeling\n",
    "import nltk\n",
    "from nltk.tokenize import word_tokenize\n",
    "from nltk.corpus import stopwords\n",
    "#unsupervised topic modeling\n",
    "#represents documents as semantic vectors\n",
    "import gensim\n",
    "from gensim import corpora\n",
    "\n",
    "#Step 6\n",
    "import pyLDAvis\n",
    "import pyLDAvis.gensim_models"
   ]
  },
  {
   "cell_type": "markdown",
   "id": "6271e786",
   "metadata": {},
   "source": [
    "### Pre-NLP: Verify spacy install + Language Models"
   ]
  },
  {
   "cell_type": "code",
   "execution_count": 3,
   "id": "13b16d11",
   "metadata": {},
   "outputs": [
    {
     "name": "stdout",
     "output_type": "stream",
     "text": [
      "French tokens: ['Bonjour', 'tout', 'le', 'monde', '.']\n",
      "English tokens: ['Hello', 'everyone', '.']\n"
     ]
    }
   ],
   "source": [
    "#above install of spacy threw conflict errors\n",
    "#verifying proper install of spacy + language models\n",
    "\n",
    "# Load the spaCy models\n",
    "nlp_fr = spacy.load('fr_core_news_sm')\n",
    "nlp_en = spacy.load('en_core_web_sm')\n",
    "\n",
    "# Example French and English texts\n",
    "french_text = \"Bonjour tout le monde.\"\n",
    "english_text = \"Hello everyone.\"\n",
    "\n",
    "# Process the texts\n",
    "doc_fr = nlp_fr(french_text)\n",
    "doc_en = nlp_en(english_text)\n",
    "\n",
    "# Print tokens\n",
    "print(\"French tokens:\", [token.text for token in doc_fr])\n",
    "print(\"English tokens:\", [token.text for token in doc_en])"
   ]
  },
  {
   "cell_type": "markdown",
   "id": "14e512b4",
   "metadata": {},
   "source": [
    "### Step 1: Extract Text from PDF"
   ]
  },
  {
   "cell_type": "code",
   "execution_count": 5,
   "id": "e7c54fea",
   "metadata": {},
   "outputs": [
    {
     "name": "stdout",
     "output_type": "stream",
     "text": [
      "Extracted Text from Third Page:\n",
      " « V. – La politique en faveur de l’agriculture et de l’alimentation tient compte des spécificités des outre-mer \n",
      "ainsi que de l’ensemble des enjeux économiques, sociaux et environnementaux de ces territoires. Elle a pour \n",
      "objectif de favoriser le développement des productions agricoles d’outre-mer, en soutenant leur accès aux marchés, \n",
      "la recherche et l’innovation, l’organisation et la modernisation de l’agriculture par la structuration en filières \n",
      "organisées compétitives et durables, l’emploi, la satisfaction de la demande alimentaire locale par des productions \n",
      "locales, le développement des énergies renouvelables, des démarches de qualité particulières et de l’agriculture \n",
      "familiale, ainsi que de répondre aux spécificités de ces territoires en matière de santé des animaux et des végétaux. \n",
      "« VI. – La politique en faveur de l’agriculture et de l’alimentation tient compte des spécificités des territoires de \n",
      "montagne, en application de l’article 8 de la loi no 85-30 du 9 janvier 1985 relative au développement et à la \n",
      "protection de la montagne. Elle reconnaît la contribution positive des exploitations agricoles à l’entretien de \n",
      "l’espace et à la préservation des milieux naturels montagnards, notamment en termes de biodiversité. Elle concourt \n",
      "au maintien de l’activité agricole en montagne, en pérennisant les dispositifs de soutien spécifiques qui lui sont \n",
      "accordés pour lutter contre l’envahissement par la friche de l’espace pastoral et pour la préserver des préjudices \n",
      "causés par les grands prédateurs. \n",
      "« VII – La politique en faveur de l’agriculture et de l’alimentation tient compte des spécificités des zones \n",
      "humides, en application de l’article L. 211-1 du code de l’environnement. \n",
      "« Art. L. 2. – La politique des pêches maritimes, de l’aquaculture et des activités halioalimentaires définie à \n",
      "l’article L. 911-2 du présent code concourt à la politique de l’alimentation et au développement des régions \n",
      "littorales, en favorisant la compétitivité de la filière et la mise sur le marché de produits de qualité, dans le cadre \n",
      "d’une exploitation durable de la ressource. » \n",
      "II. – Après le 3o de l’article L. 111-2 du même code, il est inséré un 3o bis ainsi rédigé : \n",
      "« 3o bis Maintenir et développer les secteurs de l’élevage et du pastoralisme en raison de leur contribution \n",
      "essentielle à l’aménagement et au développement des territoires ; ». \n",
      "III. – L’article L. 121-1 du code forestier est ainsi modifié : \n",
      "a) Après le premier alinéa, sont insérés huit alinéas ainsi rédigés : \n",
      "« L’Etat veille : \n",
      "« 1o A l’adaptation des essences forestières au milieu ; \n",
      "« 2o A l’optimisation du stockage de carbone dans les bois et forêts, le bois et les produits fabriqués à partir de \n",
      "bois ; \n",
      "« 3o Au maintien de l’équilibre et de la diversité biologiques et à l’adaptation des forêts au changement \n",
      "climatique ; \n",
      "« 4o A la régénération des peuplements forestiers dans des conditions satisfaisantes d’équilibre sylvo- \n",
      "cynégétique, au sens du dernier alinéa de l’article L. 425-4 du code de l’environnement ; \n",
      "« 5o A la satisfaction des besoins des industries du bois, notamment par l’équilibre des classes d’âge des \n",
      "peuplements forestiers au niveau national ; \n",
      "« 6o Au renforcement de la compétitivité et de la durabilité des filières d’utilisation du bois, par la valorisation \n",
      "optimale des ressources forestières nationales et par l’accompagnement en formation des nouveaux métiers du \n",
      "bois ; \n",
      "« 7o Au développement des territoires. » ; \n",
      "b)  Le second alinéa est ainsi modifié : \n",
      "– au début de la première phrase, le mot : « Elle » est remplacé par les mots : « La politique forestière » ; \n",
      "– la troisième phrase est supprimée. \n",
      "IV. – L’article 1er de la loi no 99-574 du 9 juillet 1999 d’orientation agricole est abrogé. \n",
      "V. – A la première phrase du III de l’article 124 de la loi de finances pour 2002 (no 2001-1275 du 28 décembre \n",
      "2001), les mots : « du financement public institué à l’article 1er de la loi no 99-574 du 9 juillet 1999 précitée » sont \n",
      "remplacés par les mots : « d’un financement public ». \n",
      "TITRE IER \n",
      "PERFORMANCE ÉCONOMIQUE ET ENVIRONNEMENTALE \n",
      "DES FILIÈRES AGRICOLES ET AGRO-ALIMENTAIRES \n",
      "Article 2 \n",
      "I. – L’article L. 611-1 du code rural et de la pêche maritime est ainsi modifié : \n",
      "1o Le premier alinéa est ainsi modifié : \n",
      "a) Après le mot : « intéressés », sont insérés les mots : « , de l’établissement mentionné à l’article L. 621-1, de \n",
      "l’établissement mentionné à l’article L. 681-3, des régions » ; \n",
      "b) Après le mot : « alimentaires », sont insérés les mots : « et du Conseil national de la montagne » ; \n",
      "14 octobre 2014 \n",
      "JOURNAL OFFICIEL DE LA RÉPUBLIQUE FRANÇAISE \n",
      "Texte 1 sur 105 \n",
      "\n"
     ]
    }
   ],
   "source": [
    "#Function to extract txt from pdf\n",
    "#debugging steps: commented out\n",
    "\n",
    "def pdf_to_text_third_page(pdf_path):\n",
    "    # Open the PDF file\n",
    "    doc = fitz.open(pdf_path)\n",
    "    \n",
    "    # Check the number of pages\n",
    "    #if len(doc) < 3:\n",
    "        #raise ValueError(\"The PDF does not contain a third page.\")\n",
    "    \n",
    "    # Load the third page (page indexing in PyMuPDF starts @ 0)\n",
    "    third_page = doc.load_page(2)\n",
    "    \n",
    "    # Extract text from the third page\n",
    "    text = third_page.get_text()\n",
    "    #if text is None:\n",
    "        #raise ValueError(\"No text found on the third page.\")\n",
    "    \n",
    "    return text\n",
    "\n",
    "#Le Loi\n",
    "pdf_path = '/Users/jenniferbadger/Dropbox/AI_course/NLP project/joe_20141014_0238_0001.pdf'\n",
    "\n",
    "# Step 1: Extract Text from PDF\n",
    "try:\n",
    "    third_page_text = pdf_to_text_third_page(pdf_path)\n",
    "    print(\"Extracted Text from Third Page:\\n\", third_page_text)\n",
    "except ValueError as e:\n",
    "    print(e)\n",
    "    third_page_text = \"\""
   ]
  },
  {
   "cell_type": "markdown",
   "id": "1be69ca5",
   "metadata": {},
   "source": [
    "### Step 2: Save the Extracted Text to a TXT File"
   ]
  },
  {
   "cell_type": "code",
   "execution_count": 10,
   "id": "5ae362af",
   "metadata": {},
   "outputs": [],
   "source": [
    "# Function to save text to a file\n",
    "\n",
    "def save_text_to_file(text, filename):\n",
    "    #opens the file specified by filename in write mode \n",
    "    #with UTF-8 encoding\n",
    "    with open(filename, 'w', encoding='utf-8') as file:\n",
    "        #writes the text to the file\n",
    "        #file is automatically closed when the block inside with is exited\n",
    "        file.write(text)\n",
    "\n",
    "# Save the extracted text to a file\n",
    "#with if statement for debugging\n",
    "\n",
    "if third_page_text:\n",
    "    txt_filename = 'third_page_LaLoi.txt'\n",
    "    save_text_to_file(third_page_text, txt_filename)"
   ]
  },
  {
   "cell_type": "markdown",
   "id": "af12ef62",
   "metadata": {},
   "source": [
    "### Step 3: Preprocess the French Sentences\n",
    "- Loads Spacy's French model that recognizes sentence boundaries\n",
    "- Defines function to tokenize text into sentences \n",
    "- Toeknizes Le Loi into sentences"
   ]
  },
  {
   "cell_type": "code",
   "execution_count": 11,
   "id": "8f1a574b",
   "metadata": {},
   "outputs": [],
   "source": [
    "# Load spacy's French model\n",
    "nlp_fr = spacy.load('fr_core_news_sm')\n",
    "\n",
    "#Function to preprocess French sentences\n",
    "#takes a single argument- 'sentences'\n",
    "\n",
    "def preprocess_french_sentences(sentences):\n",
    "    \n",
    "    #creates an empty list to hold the processed sentences\n",
    "    processed_sentences = []\n",
    "   \n",
    "    #Loops through each sentence in the input list\n",
    "    for sentence in sentences:\n",
    "        \n",
    "        #Converts each sentence to lowercase and \n",
    "        #processes it using the spacy French model\n",
    "        doc = nlp_fr(sentence.lower())\n",
    "        \n",
    "        #Removes stop words and non-alphabetic tokens\n",
    "        #Creates a list of words in the sentence that fit this parameter\n",
    "        words = [token.text for token in doc if token.is_alpha and not token.is_stop]\n",
    "        \n",
    "        #Appends the list of words to the processed_sentences list\n",
    "        processed_sentences.append(words)\n",
    "        \n",
    "        #Returns a list of lists, \n",
    "        #where each inner list contains the cleaned and tokenized words of a single sentence.\n",
    "    return processed_sentences"
   ]
  },
  {
   "cell_type": "code",
   "execution_count": 14,
   "id": "349f9fc0",
   "metadata": {},
   "outputs": [
    {
     "name": "stdout",
     "output_type": "stream",
     "text": [
      "Processed Test Sentences: [['bonjour', 'monde'], ['exemple', 'texte', 'français'], ['agit', 'phrase']]\n"
     ]
    }
   ],
   "source": [
    "test_sentences = [\"Bonjour tout le monde.\",\n",
    "    \"C'est un exemple de texte en français.\",\n",
    "    \"Il s'agit de la troisième phrase.\"]\n",
    "\n",
    "processed_test_sentences = preprocess_french_sentences(test_sentences)\n",
    "print(\"Processed Test Sentences:\", processed_test_sentences)"
   ]
  },
  {
   "cell_type": "code",
   "execution_count": 13,
   "id": "a468a3ae",
   "metadata": {},
   "outputs": [
    {
     "name": "stdout",
     "output_type": "stream",
     "text": [
      "Processed French Sentences: [['politique', 'faveur', 'agriculture', 'alimentation', 'tient', 'compte', 'spécificités', 'ensemble', 'enjeux', 'économiques', 'sociaux', 'environnementaux', 'territoires'], ['objectif', 'favoriser', 'développement', 'productions', 'agricoles', 'soutenant', 'accès', 'marchés', 'recherche', 'innovation', 'organisation', 'modernisation', 'agriculture', 'structuration', 'filières', 'organisées', 'compétitives', 'durables', 'emploi', 'satisfaction', 'demande', 'alimentaire', 'locale', 'productions', 'locales', 'développement', 'énergies', 'renouvelables', 'démarches', 'qualité', 'particulières', 'agriculture', 'familiale', 'répondre', 'spécificités', 'territoires', 'matière', 'santé', 'animaux', 'végétaux'], ['vi'], ['politique', 'faveur', 'agriculture', 'alimentation', 'tient', 'compte', 'spécificités', 'territoires', 'montagne', 'application', 'article', 'loi', 'no', 'janvier', 'développement', 'protection', 'montagne'], ['reconnaît', 'contribution', 'positive', 'exploitations', 'agricoles', 'entretien', 'espace', 'préservation', 'milieux', 'naturels', 'montagnards', 'termes', 'biodiversité'], ['concourt', 'maintien', 'activité', 'agricole', 'montagne', 'pérennisant', 'dispositifs', 'soutien', 'accordés', 'lutter', 'contre', 'envahissement', 'friche', 'espace', 'pastoral', 'préserver', 'préjudices', 'causés', 'grands', 'prédateurs'], ['vii', 'politique', 'faveur', 'agriculture', 'alimentation', 'tient', 'compte', 'spécificités', 'zones', 'humides', 'application', 'article', 'code', 'environnement'], ['art'], [], ['politique', 'pêches', 'maritimes', 'aquaculture', 'activités', 'halioalimentaires', 'définie', 'article', 'présent', 'code', 'concourt', 'politique', 'alimentation', 'développement', 'régions', 'littorales', 'favorisant', 'compétitivité', 'filière', 'mise', 'marché', 'produits', 'qualité', 'cadre', 'exploitation', 'durable', 'ressource'], ['ii'], ['article', 'code', 'inséré', 'bis', 'rédigé', 'bis', 'maintenir', 'développer', 'secteurs', 'élevage', 'pastoralisme', 'raison', 'contribution', 'essentielle', 'aménagement', 'développement', 'territoires'], ['iii'], ['article', 'code', 'forestier', 'modifié', 'alinéa', 'insérés', 'alinéas', 'rédigés', 'etat', 'veille', 'adaptation', 'essences', 'forestières', 'milieu', 'optimisation', 'stockage', 'carbone', 'bois', 'forêts', 'bois', 'produits', 'fabriqués', 'partir', 'bois', 'maintien', 'équilibre', 'diversité', 'biologiques', 'adaptation', 'forêts', 'changement', 'climatique', 'régénération', 'peuplements', 'forestiers', 'conditions', 'satisfaisantes', 'équilibre', 'cynégétique', 'sens', 'dernier', 'alinéa', 'article', 'code', 'environnement', 'satisfaction', 'besoins', 'industries', 'bois', 'équilibre', 'classes', 'âge', 'peuplements', 'forestiers', 'niveau', 'national', 'renforcement', 'compétitivité', 'durabilité', 'filières', 'utilisation', 'bois', 'valorisation', 'optimale', 'ressources', 'forestières', 'nationales', 'accompagnement', 'formation', 'nouveaux', 'métiers', 'bois', 'développement', 'territoires'], ['b', 'second', 'alinéa', 'modifié', 'début', 'phrase', 'mot', 'remplacé', 'mots', 'politique', 'forestière', 'phrase', 'supprimée'], ['iv'], ['article', 'loi', 'no', 'juillet', 'orientation', 'agricole', 'abrogé'], ['phrase', 'iii', 'article', 'loi', 'finances', 'no', 'décembre', 'mots', 'financement', 'public', 'institué', 'article', 'loi', 'no', 'juillet', 'précitée', 'remplacés', 'mots', 'financement', 'public'], ['titre', 'ier', 'performance', 'économique', 'environnementale', 'filières', 'agricoles', 'article'], ['article', 'code', 'rural', 'pêche', 'maritime', 'modifié', 'alinéa', 'modifié', 'mot', 'intéressés', 'insérés', 'mots', 'établissement', 'mentionné', 'article', 'établissement', 'mentionné', 'article', 'régions', 'b', 'mot', 'alimentaires', 'insérés', 'mots', 'conseil', 'national', 'montagne', 'octobre', 'journal', 'officiel', 'république', 'française', 'texte']]\n"
     ]
    }
   ],
   "source": [
    "# Split the extracted text into sentences\n",
    "french_sentences = sent_tokenize(third_page_text)\n",
    "\n",
    "# Preprocess the French sentences\n",
    "processed_french_sentences = preprocess_french_sentences(french_sentences)\n",
    "print(\"Processed French Sentences:\", processed_french_sentences)"
   ]
  },
  {
   "cell_type": "code",
   "execution_count": null,
   "id": "a070ee67",
   "metadata": {},
   "outputs": [],
   "source": []
  }
 ],
 "metadata": {
  "kernelspec": {
   "display_name": "Python 3 (ipykernel)",
   "language": "python",
   "name": "python3"
  },
  "language_info": {
   "codemirror_mode": {
    "name": "ipython",
    "version": 3
   },
   "file_extension": ".py",
   "mimetype": "text/x-python",
   "name": "python",
   "nbconvert_exporter": "python",
   "pygments_lexer": "ipython3",
   "version": "3.8.15"
  }
 },
 "nbformat": 4,
 "nbformat_minor": 5
}
