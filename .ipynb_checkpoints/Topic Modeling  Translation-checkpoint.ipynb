{
 "cells": [
  {
   "cell_type": "markdown",
   "id": "4e274896",
   "metadata": {},
   "source": [
    "# NLP Topic Modeling w/Enviro Policy Using Spacy Language Models\n"
   ]
  },
  {
   "cell_type": "markdown",
   "id": "a276b968",
   "metadata": {},
   "source": [
    "Using the paper *Beyond modeling: NLP Pipeline for efficient environmental policy analysis* [Planas et al.(2022)](https://arxiv.org/abs/2201.07105) by  and their recommended Knowledge Management Framework, I designed a NLP workflow with PythonGPT and Mistral to carry out Topic Modeling on a single page of the 2014 French National Agroecology policy **La loi d'avenir pour l'agriculture, l'alimentation et la forêt**"
   ]
  },
  {
   "cell_type": "code",
   "execution_count": null,
   "id": "6c7cfce9",
   "metadata": {},
   "outputs": [],
   "source": [
    "#next steps: open a new notebook\n",
    "#use python GPT to complete 'assignment'\n",
    "#Graduate Level Assignment: Topic Modeling on Translated Sentences from PDF Using spaCy French Model\n",
    "\n",
    "#Next feed Loi pdf to ChatGPT and see how it does with translation"
   ]
  },
  {
   "cell_type": "code",
   "execution_count": 2,
   "id": "aa6e6039",
   "metadata": {},
   "outputs": [
    {
     "name": "stdout",
     "output_type": "stream",
     "text": [
      "Requirement already satisfied: scikit-learn in /Users/jenniferbadger/opt/anaconda3/lib/python3.8/site-packages (1.2.1)\r\n",
      "Requirement already satisfied: numpy>=1.17.3 in /Users/jenniferbadger/opt/anaconda3/lib/python3.8/site-packages (from scikit-learn) (1.24.1)\r\n",
      "Requirement already satisfied: scipy>=1.3.2 in /Users/jenniferbadger/opt/anaconda3/lib/python3.8/site-packages (from scikit-learn) (1.10.1)\r\n",
      "Requirement already satisfied: joblib>=1.1.1 in /Users/jenniferbadger/opt/anaconda3/lib/python3.8/site-packages (from scikit-learn) (1.4.2)\r\n",
      "Requirement already satisfied: threadpoolctl>=2.0.0 in /Users/jenniferbadger/opt/anaconda3/lib/python3.8/site-packages (from scikit-learn) (3.5.0)\r\n"
     ]
    }
   ],
   "source": [
    "#previously installed\n",
    "#!pip install pymupdf \n",
    "#!pip install googletrans==4.0.0-rc1 \n",
    "#!pip install nltk\n",
    "#!pip install spacy\n",
    "\n",
    "#!pip install gensim \n",
    "#!pip install pyLDAvis\n",
    "#!pip install scikit-learn"
   ]
  },
  {
   "cell_type": "markdown",
   "id": "a32ffb96",
   "metadata": {},
   "source": [
    "### Pre-NLP: import libraries"
   ]
  },
  {
   "cell_type": "code",
   "execution_count": 9,
   "id": "9b9ea24e",
   "metadata": {},
   "outputs": [],
   "source": [
    "#Step 1: Extract Text from PDF\n",
    "import fitz  # PyMuPDF\n",
    "\n",
    "\n",
    "#Step 3: Preprocess the French Sentences\n",
    "import spacy\n",
    "from nltk.tokenize import sent_tokenize\n",
    "\n",
    "#Step 4: Translate the Sentences\n",
    "from googletrans import Translator\n",
    "\n",
    "#Step 5: Perform Topic Modeling\n",
    "import nltk\n",
    "from nltk.tokenize import word_tokenize\n",
    "from nltk.corpus import stopwords\n",
    "#unsupervised topic modeling\n",
    "#represents documents as semantic vectors\n",
    "import gensim\n",
    "from gensim import corpora\n",
    "\n",
    "#Step 6\n",
    "import pyLDAvis\n",
    "import pyLDAvis.gensim_models"
   ]
  },
  {
   "cell_type": "markdown",
   "id": "d617c86d",
   "metadata": {},
   "source": [
    "### Pre-NLP: Verify spacy install + Language Models"
   ]
  },
  {
   "cell_type": "code",
   "execution_count": 3,
   "id": "13b16d11",
   "metadata": {},
   "outputs": [
    {
     "name": "stdout",
     "output_type": "stream",
     "text": [
      "French tokens: ['Bonjour', 'tout', 'le', 'monde', '.']\n",
      "English tokens: ['Hello', 'everyone', '.']\n"
     ]
    }
   ],
   "source": [
    "#above install of spacy threw conflict errors\n",
    "#verifying proper install of spacy + language models\n",
    "\n",
    "# Load the spaCy models\n",
    "nlp_fr = spacy.load('fr_core_news_sm')\n",
    "nlp_en = spacy.load('en_core_web_sm')\n",
    "\n",
    "# Example French and English texts\n",
    "french_text = \"Bonjour tout le monde.\"\n",
    "english_text = \"Hello everyone.\"\n",
    "\n",
    "# Process the texts\n",
    "doc_fr = nlp_fr(french_text)\n",
    "doc_en = nlp_en(english_text)\n",
    "\n",
    "# Print tokens\n",
    "print(\"French tokens:\", [token.text for token in doc_fr])\n",
    "print(\"English tokens:\", [token.text for token in doc_en])"
   ]
  },
  {
   "cell_type": "markdown",
   "id": "dc4d8a60",
   "metadata": {},
   "source": [
    "### Step 1: Extract Text from PDF"
   ]
  },
  {
   "cell_type": "code",
   "execution_count": 5,
   "id": "bb1a1ce9",
   "metadata": {},
   "outputs": [
    {
     "name": "stdout",
     "output_type": "stream",
     "text": [
      "Extracted Text from Third Page:\n",
      " « V. – La politique en faveur de l’agriculture et de l’alimentation tient compte des spécificités des outre-mer \n",
      "ainsi que de l’ensemble des enjeux économiques, sociaux et environnementaux de ces territoires. Elle a pour \n",
      "objectif de favoriser le développement des productions agricoles d’outre-mer, en soutenant leur accès aux marchés, \n",
      "la recherche et l’innovation, l’organisation et la modernisation de l’agriculture par la structuration en filières \n",
      "organisées compétitives et durables, l’emploi, la satisfaction de la demande alimentaire locale par des productions \n",
      "locales, le développement des énergies renouvelables, des démarches de qualité particulières et de l’agriculture \n",
      "familiale, ainsi que de répondre aux spécificités de ces territoires en matière de santé des animaux et des végétaux. \n",
      "« VI. – La politique en faveur de l’agriculture et de l’alimentation tient compte des spécificités des territoires de \n",
      "montagne, en application de l’article 8 de la loi no 85-30 du 9 janvier 1985 relative au développement et à la \n",
      "protection de la montagne. Elle reconnaît la contribution positive des exploitations agricoles à l’entretien de \n",
      "l’espace et à la préservation des milieux naturels montagnards, notamment en termes de biodiversité. Elle concourt \n",
      "au maintien de l’activité agricole en montagne, en pérennisant les dispositifs de soutien spécifiques qui lui sont \n",
      "accordés pour lutter contre l’envahissement par la friche de l’espace pastoral et pour la préserver des préjudices \n",
      "causés par les grands prédateurs. \n",
      "« VII – La politique en faveur de l’agriculture et de l’alimentation tient compte des spécificités des zones \n",
      "humides, en application de l’article L. 211-1 du code de l’environnement. \n",
      "« Art. L. 2. – La politique des pêches maritimes, de l’aquaculture et des activités halioalimentaires définie à \n",
      "l’article L. 911-2 du présent code concourt à la politique de l’alimentation et au développement des régions \n",
      "littorales, en favorisant la compétitivité de la filière et la mise sur le marché de produits de qualité, dans le cadre \n",
      "d’une exploitation durable de la ressource. » \n",
      "II. – Après le 3o de l’article L. 111-2 du même code, il est inséré un 3o bis ainsi rédigé : \n",
      "« 3o bis Maintenir et développer les secteurs de l’élevage et du pastoralisme en raison de leur contribution \n",
      "essentielle à l’aménagement et au développement des territoires ; ». \n",
      "III. – L’article L. 121-1 du code forestier est ainsi modifié : \n",
      "a) Après le premier alinéa, sont insérés huit alinéas ainsi rédigés : \n",
      "« L’Etat veille : \n",
      "« 1o A l’adaptation des essences forestières au milieu ; \n",
      "« 2o A l’optimisation du stockage de carbone dans les bois et forêts, le bois et les produits fabriqués à partir de \n",
      "bois ; \n",
      "« 3o Au maintien de l’équilibre et de la diversité biologiques et à l’adaptation des forêts au changement \n",
      "climatique ; \n",
      "« 4o A la régénération des peuplements forestiers dans des conditions satisfaisantes d’équilibre sylvo- \n",
      "cynégétique, au sens du dernier alinéa de l’article L. 425-4 du code de l’environnement ; \n",
      "« 5o A la satisfaction des besoins des industries du bois, notamment par l’équilibre des classes d’âge des \n",
      "peuplements forestiers au niveau national ; \n",
      "« 6o Au renforcement de la compétitivité et de la durabilité des filières d’utilisation du bois, par la valorisation \n",
      "optimale des ressources forestières nationales et par l’accompagnement en formation des nouveaux métiers du \n",
      "bois ; \n",
      "« 7o Au développement des territoires. » ; \n",
      "b)  Le second alinéa est ainsi modifié : \n",
      "– au début de la première phrase, le mot : « Elle » est remplacé par les mots : « La politique forestière » ; \n",
      "– la troisième phrase est supprimée. \n",
      "IV. – L’article 1er de la loi no 99-574 du 9 juillet 1999 d’orientation agricole est abrogé. \n",
      "V. – A la première phrase du III de l’article 124 de la loi de finances pour 2002 (no 2001-1275 du 28 décembre \n",
      "2001), les mots : « du financement public institué à l’article 1er de la loi no 99-574 du 9 juillet 1999 précitée » sont \n",
      "remplacés par les mots : « d’un financement public ». \n",
      "TITRE IER \n",
      "PERFORMANCE ÉCONOMIQUE ET ENVIRONNEMENTALE \n",
      "DES FILIÈRES AGRICOLES ET AGRO-ALIMENTAIRES \n",
      "Article 2 \n",
      "I. – L’article L. 611-1 du code rural et de la pêche maritime est ainsi modifié : \n",
      "1o Le premier alinéa est ainsi modifié : \n",
      "a) Après le mot : « intéressés », sont insérés les mots : « , de l’établissement mentionné à l’article L. 621-1, de \n",
      "l’établissement mentionné à l’article L. 681-3, des régions » ; \n",
      "b) Après le mot : « alimentaires », sont insérés les mots : « et du Conseil national de la montagne » ; \n",
      "14 octobre 2014 \n",
      "JOURNAL OFFICIEL DE LA RÉPUBLIQUE FRANÇAISE \n",
      "Texte 1 sur 105 \n",
      "\n"
     ]
    }
   ],
   "source": [
    "#Function to extract txt from pdf\n",
    "#debugging steps: commented out\n",
    "\n",
    "def pdf_to_text_third_page(pdf_path):\n",
    "    # Open the PDF file\n",
    "    doc = fitz.open(pdf_path)\n",
    "    \n",
    "    # Check the number of pages\n",
    "    #if len(doc) < 3:\n",
    "        #raise ValueError(\"The PDF does not contain a third page.\")\n",
    "    \n",
    "    # Load the third page (page indexing in PyMuPDF starts @ 0)\n",
    "    third_page = doc.load_page(2)\n",
    "    \n",
    "    # Extract text from the third page\n",
    "    text = third_page.get_text()\n",
    "    #if text is None:\n",
    "        #raise ValueError(\"No text found on the third page.\")\n",
    "    \n",
    "    return text\n",
    "\n",
    "#La Loi\n",
    "pdf_path = '/Users/jenniferbadger/Dropbox/AI_course/NLP project/joe_20141014_0238_0001.pdf'\n",
    "\n",
    "# Step 1: Extract Text from PDF\n",
    "try:\n",
    "    third_page_text = pdf_to_text_third_page(pdf_path)\n",
    "    print(\"Extracted Text from Third Page:\\n\", third_page_text)\n",
    "except ValueError as e:\n",
    "    print(e)\n",
    "    third_page_text = \"\""
   ]
  },
  {
   "cell_type": "markdown",
   "id": "3dd121cd",
   "metadata": {},
   "source": [
    "### Step 2: Save the Extracted Text to a TXT File"
   ]
  },
  {
   "cell_type": "code",
   "execution_count": 10,
   "id": "3878398f",
   "metadata": {},
   "outputs": [],
   "source": [
    "# Function to save text to a file\n",
    "\n",
    "def save_text_to_file(text, filename):\n",
    "    #opens the file specified by filename in write mode \n",
    "    #with UTF-8 encoding\n",
    "    with open(filename, 'w', encoding='utf-8') as file:\n",
    "        #writes the text to the file\n",
    "        #file is automatically closed when the block inside with is exited\n",
    "        file.write(text)\n",
    "\n",
    "# Save the extracted text to a file\n",
    "#with if statement for debugging\n",
    "\n",
    "if third_page_text:\n",
    "    txt_filename = 'third_page_LaLoi.txt'\n",
    "    save_text_to_file(third_page_text, txt_filename)"
   ]
  },
  {
   "cell_type": "markdown",
   "id": "13ba5134",
   "metadata": {},
   "source": [
    "### Step 3: Preprocess the French Sentences\n",
    "- Split the extracted text into sentences\n",
    "- Use defined function to:\n",
    "    - Convert each sentence to lowercase.\n",
    "    - Tokenize each sentences.\n",
    "    - Remove stop words and non-alphabetic tokens.\n",
    "    - Return a list of cleaned, tokenized sentences; a list of lists."
   ]
  },
  {
   "cell_type": "code",
   "execution_count": 11,
   "id": "e9931739",
   "metadata": {},
   "outputs": [],
   "source": [
    "# Load spacy's French model\n",
    "nlp_fr = spacy.load('fr_core_news_sm')\n",
    "\n",
    "#Function to preprocess French sentences\n",
    "#takes a single argument- 'sentences'\n",
    "\n",
    "def preprocess_french_sentences(sentences):\n",
    "    \n",
    "    #creates an empty list to hold the processed sentences\n",
    "    processed_sentences = []\n",
    "   \n",
    "    #Loops through each sentence in the input list\n",
    "    for sentence in sentences:\n",
    "        \n",
    "        #Converts each sentence to lowercase and \n",
    "        #processes it using the spacy French model\n",
    "        #The result is a spaCy Doc object \n",
    "        #which contains tokens and other linguistic annotations\n",
    "        doc = nlp_fr(sentence.lower())\n",
    "        \n",
    "        #Uses a list comprehension to create a list of words from the doc object\n",
    "        #Removes stop words and non-alphabetic tokens\n",
    "     \n",
    "        #stop words are common words that carry little information \n",
    "        #Eg English stop words: if, but, we, he, she, they\n",
    "        #Eg French stop words: si, mais, nouse, il, elle, ils\n",
    "        \n",
    "        #token.text extracts the text of each token\n",
    "        words = [token.text for token in doc if token.is_alpha and not token.is_stop]\n",
    "        \n",
    "        #Appends the list of words to the processed_sentences list\n",
    "        processed_sentences.append(words)\n",
    "        \n",
    "        #Returns a list of lists, \n",
    "        #where each inner list contains the cleaned and tokenized words of a single sentence.\n",
    "    return processed_sentences"
   ]
  },
  {
   "cell_type": "code",
   "execution_count": 17,
   "id": "8e4559fb",
   "metadata": {},
   "outputs": [
    {
     "name": "stdout",
     "output_type": "stream",
     "text": [
      "Processed Test Sentences: [['bonjour', 'monde'], ['sommes', 'mardi', 'juin'], ['exemple', 'texte', 'français'], ['agit', 'phrase']]\n"
     ]
    }
   ],
   "source": [
    "test_sentences = [\"Bonjour tout le monde.\",\n",
    "    \"Aujourd'hui, nous sommes le mardi 4 juin.\",\n",
    "    \"C'est un exemple de texte en français.\",\n",
    "    \"Il s'agit de la troisième phrase.\"]\n",
    "\n",
    "processed_test_sentences = preprocess_french_sentences(test_sentences)\n",
    "print(\"Processed Test Sentences:\", processed_test_sentences)\n",
    "\n",
    "#notice the stop words tout, le, un, de, en, C'est, Il, la were removed\n",
    "#also the date '4' was removes"
   ]
  },
  {
   "cell_type": "code",
   "execution_count": 20,
   "id": "644a87bb",
   "metadata": {},
   "outputs": [
    {
     "name": "stdout",
     "output_type": "stream",
     "text": [
      "['Bonjour tout le monde.', \"C'est un exemple de texte en français.\", \"Il s'agit de la troisième phrase.\"]\n"
     ]
    }
   ],
   "source": [
    "#NLTK's sent_tokenize() segments a given text into sentences. \n",
    "#It uses pre-trained models to understand where sentences typically end\n",
    "#Can work with multiple languages, though it might need different models for different languages\n",
    "#returns a list of sentences\n",
    "\n",
    "# Example text\n",
    "test_text = \"Bonjour tout le monde. C'est un exemple de texte en français. Il s'agit de la troisième phrase.\"\n",
    "\n",
    "# Split the text into sentences\n",
    "test_sentences = sent_tokenize(test_text)\n",
    "\n",
    "# Print the sentences\n",
    "print(test_sentences)"
   ]
  },
  {
   "cell_type": "code",
   "execution_count": 18,
   "id": "9702ab19",
   "metadata": {},
   "outputs": [
    {
     "name": "stdout",
     "output_type": "stream",
     "text": [
      "Processed French Sentences: [['politique', 'faveur', 'agriculture', 'alimentation', 'tient', 'compte', 'spécificités', 'ensemble', 'enjeux', 'économiques', 'sociaux', 'environnementaux', 'territoires'], ['objectif', 'favoriser', 'développement', 'productions', 'agricoles', 'soutenant', 'accès', 'marchés', 'recherche', 'innovation', 'organisation', 'modernisation', 'agriculture', 'structuration', 'filières', 'organisées', 'compétitives', 'durables', 'emploi', 'satisfaction', 'demande', 'alimentaire', 'locale', 'productions', 'locales', 'développement', 'énergies', 'renouvelables', 'démarches', 'qualité', 'particulières', 'agriculture', 'familiale', 'répondre', 'spécificités', 'territoires', 'matière', 'santé', 'animaux', 'végétaux'], ['vi'], ['politique', 'faveur', 'agriculture', 'alimentation', 'tient', 'compte', 'spécificités', 'territoires', 'montagne', 'application', 'article', 'loi', 'no', 'janvier', 'développement', 'protection', 'montagne'], ['reconnaît', 'contribution', 'positive', 'exploitations', 'agricoles', 'entretien', 'espace', 'préservation', 'milieux', 'naturels', 'montagnards', 'termes', 'biodiversité'], ['concourt', 'maintien', 'activité', 'agricole', 'montagne', 'pérennisant', 'dispositifs', 'soutien', 'accordés', 'lutter', 'contre', 'envahissement', 'friche', 'espace', 'pastoral', 'préserver', 'préjudices', 'causés', 'grands', 'prédateurs'], ['vii', 'politique', 'faveur', 'agriculture', 'alimentation', 'tient', 'compte', 'spécificités', 'zones', 'humides', 'application', 'article', 'code', 'environnement'], ['art'], [], ['politique', 'pêches', 'maritimes', 'aquaculture', 'activités', 'halioalimentaires', 'définie', 'article', 'présent', 'code', 'concourt', 'politique', 'alimentation', 'développement', 'régions', 'littorales', 'favorisant', 'compétitivité', 'filière', 'mise', 'marché', 'produits', 'qualité', 'cadre', 'exploitation', 'durable', 'ressource'], ['ii'], ['article', 'code', 'inséré', 'bis', 'rédigé', 'bis', 'maintenir', 'développer', 'secteurs', 'élevage', 'pastoralisme', 'raison', 'contribution', 'essentielle', 'aménagement', 'développement', 'territoires'], ['iii'], ['article', 'code', 'forestier', 'modifié', 'alinéa', 'insérés', 'alinéas', 'rédigés', 'etat', 'veille', 'adaptation', 'essences', 'forestières', 'milieu', 'optimisation', 'stockage', 'carbone', 'bois', 'forêts', 'bois', 'produits', 'fabriqués', 'partir', 'bois', 'maintien', 'équilibre', 'diversité', 'biologiques', 'adaptation', 'forêts', 'changement', 'climatique', 'régénération', 'peuplements', 'forestiers', 'conditions', 'satisfaisantes', 'équilibre', 'cynégétique', 'sens', 'dernier', 'alinéa', 'article', 'code', 'environnement', 'satisfaction', 'besoins', 'industries', 'bois', 'équilibre', 'classes', 'âge', 'peuplements', 'forestiers', 'niveau', 'national', 'renforcement', 'compétitivité', 'durabilité', 'filières', 'utilisation', 'bois', 'valorisation', 'optimale', 'ressources', 'forestières', 'nationales', 'accompagnement', 'formation', 'nouveaux', 'métiers', 'bois', 'développement', 'territoires'], ['b', 'second', 'alinéa', 'modifié', 'début', 'phrase', 'mot', 'remplacé', 'mots', 'politique', 'forestière', 'phrase', 'supprimée'], ['iv'], ['article', 'loi', 'no', 'juillet', 'orientation', 'agricole', 'abrogé'], ['phrase', 'iii', 'article', 'loi', 'finances', 'no', 'décembre', 'mots', 'financement', 'public', 'institué', 'article', 'loi', 'no', 'juillet', 'précitée', 'remplacés', 'mots', 'financement', 'public'], ['titre', 'ier', 'performance', 'économique', 'environnementale', 'filières', 'agricoles', 'article'], ['article', 'code', 'rural', 'pêche', 'maritime', 'modifié', 'alinéa', 'modifié', 'mot', 'intéressés', 'insérés', 'mots', 'établissement', 'mentionné', 'article', 'établissement', 'mentionné', 'article', 'régions', 'b', 'mot', 'alimentaires', 'insérés', 'mots', 'conseil', 'national', 'montagne', 'octobre', 'journal', 'officiel', 'république', 'française', 'texte']]\n"
     ]
    }
   ],
   "source": [
    "##Splits the extracted text into sentences\n",
    "french_sentences = sent_tokenize(third_page_text)\n",
    "\n",
    "#Preprocess the French sentences tokenized text into sentences as an input\n",
    "#to the function defined above\n",
    "processed_french_sentences = preprocess_french_sentences(french_sentences)\n",
    "print(\"Processed French Sentences:\", processed_french_sentences)"
   ]
  },
  {
   "cell_type": "code",
   "execution_count": 30,
   "id": "ef1b965d",
   "metadata": {},
   "outputs": [
    {
     "name": "stdout",
     "output_type": "stream",
     "text": [
      "20\n"
     ]
    }
   ],
   "source": [
    "def countList(lst):\n",
    "    return len(lst)\n",
    " \n",
    "print(countList(processed_french_sentences)) #20"
   ]
  },
  {
   "cell_type": "code",
   "execution_count": 32,
   "id": "de155302",
   "metadata": {},
   "outputs": [
    {
     "data": {
      "text/plain": [
       "Counter({'politique': 6,\n",
       "         'faveur': 3,\n",
       "         'agriculture': 5,\n",
       "         'alimentation': 4,\n",
       "         'tient': 3,\n",
       "         'compte': 3,\n",
       "         'spécificités': 4,\n",
       "         'ensemble': 1,\n",
       "         'enjeux': 1,\n",
       "         'économiques': 1,\n",
       "         'sociaux': 1,\n",
       "         'environnementaux': 1,\n",
       "         'territoires': 5,\n",
       "         'objectif': 1,\n",
       "         'favoriser': 1,\n",
       "         'développement': 6,\n",
       "         'productions': 2,\n",
       "         'agricoles': 3,\n",
       "         'soutenant': 1,\n",
       "         'accès': 1,\n",
       "         'marchés': 1,\n",
       "         'recherche': 1,\n",
       "         'innovation': 1,\n",
       "         'organisation': 1,\n",
       "         'modernisation': 1,\n",
       "         'structuration': 1,\n",
       "         'filières': 3,\n",
       "         'organisées': 1,\n",
       "         'compétitives': 1,\n",
       "         'durables': 1,\n",
       "         'emploi': 1,\n",
       "         'satisfaction': 2,\n",
       "         'demande': 1,\n",
       "         'alimentaire': 1,\n",
       "         'locale': 1,\n",
       "         'locales': 1,\n",
       "         'énergies': 1,\n",
       "         'renouvelables': 1,\n",
       "         'démarches': 1,\n",
       "         'qualité': 2,\n",
       "         'particulières': 1,\n",
       "         'familiale': 1,\n",
       "         'répondre': 1,\n",
       "         'matière': 1,\n",
       "         'santé': 1,\n",
       "         'animaux': 1,\n",
       "         'végétaux': 1,\n",
       "         'vi': 1,\n",
       "         'montagne': 4,\n",
       "         'application': 2,\n",
       "         'article': 13,\n",
       "         'loi': 4,\n",
       "         'no': 4,\n",
       "         'janvier': 1,\n",
       "         'protection': 1,\n",
       "         'reconnaît': 1,\n",
       "         'contribution': 2,\n",
       "         'positive': 1,\n",
       "         'exploitations': 1,\n",
       "         'entretien': 1,\n",
       "         'espace': 2,\n",
       "         'préservation': 1,\n",
       "         'milieux': 1,\n",
       "         'naturels': 1,\n",
       "         'montagnards': 1,\n",
       "         'termes': 1,\n",
       "         'biodiversité': 1,\n",
       "         'concourt': 2,\n",
       "         'maintien': 2,\n",
       "         'activité': 1,\n",
       "         'agricole': 2,\n",
       "         'pérennisant': 1,\n",
       "         'dispositifs': 1,\n",
       "         'soutien': 1,\n",
       "         'accordés': 1,\n",
       "         'lutter': 1,\n",
       "         'contre': 1,\n",
       "         'envahissement': 1,\n",
       "         'friche': 1,\n",
       "         'pastoral': 1,\n",
       "         'préserver': 1,\n",
       "         'préjudices': 1,\n",
       "         'causés': 1,\n",
       "         'grands': 1,\n",
       "         'prédateurs': 1,\n",
       "         'vii': 1,\n",
       "         'zones': 1,\n",
       "         'humides': 1,\n",
       "         'code': 6,\n",
       "         'environnement': 2,\n",
       "         'art': 1,\n",
       "         'pêches': 1,\n",
       "         'maritimes': 1,\n",
       "         'aquaculture': 1,\n",
       "         'activités': 1,\n",
       "         'halioalimentaires': 1,\n",
       "         'définie': 1,\n",
       "         'présent': 1,\n",
       "         'régions': 2,\n",
       "         'littorales': 1,\n",
       "         'favorisant': 1,\n",
       "         'compétitivité': 2,\n",
       "         'filière': 1,\n",
       "         'mise': 1,\n",
       "         'marché': 1,\n",
       "         'produits': 2,\n",
       "         'cadre': 1,\n",
       "         'exploitation': 1,\n",
       "         'durable': 1,\n",
       "         'ressource': 1,\n",
       "         'ii': 1,\n",
       "         'inséré': 1,\n",
       "         'bis': 2,\n",
       "         'rédigé': 1,\n",
       "         'maintenir': 1,\n",
       "         'développer': 1,\n",
       "         'secteurs': 1,\n",
       "         'élevage': 1,\n",
       "         'pastoralisme': 1,\n",
       "         'raison': 1,\n",
       "         'essentielle': 1,\n",
       "         'aménagement': 1,\n",
       "         'iii': 2,\n",
       "         'forestier': 1,\n",
       "         'modifié': 4,\n",
       "         'alinéa': 4,\n",
       "         'insérés': 3,\n",
       "         'alinéas': 1,\n",
       "         'rédigés': 1,\n",
       "         'etat': 1,\n",
       "         'veille': 1,\n",
       "         'adaptation': 2,\n",
       "         'essences': 1,\n",
       "         'forestières': 2,\n",
       "         'milieu': 1,\n",
       "         'optimisation': 1,\n",
       "         'stockage': 1,\n",
       "         'carbone': 1,\n",
       "         'bois': 6,\n",
       "         'forêts': 2,\n",
       "         'fabriqués': 1,\n",
       "         'partir': 1,\n",
       "         'équilibre': 3,\n",
       "         'diversité': 1,\n",
       "         'biologiques': 1,\n",
       "         'changement': 1,\n",
       "         'climatique': 1,\n",
       "         'régénération': 1,\n",
       "         'peuplements': 2,\n",
       "         'forestiers': 2,\n",
       "         'conditions': 1,\n",
       "         'satisfaisantes': 1,\n",
       "         'cynégétique': 1,\n",
       "         'sens': 1,\n",
       "         'dernier': 1,\n",
       "         'besoins': 1,\n",
       "         'industries': 1,\n",
       "         'classes': 1,\n",
       "         'âge': 1,\n",
       "         'niveau': 1,\n",
       "         'national': 2,\n",
       "         'renforcement': 1,\n",
       "         'durabilité': 1,\n",
       "         'utilisation': 1,\n",
       "         'valorisation': 1,\n",
       "         'optimale': 1,\n",
       "         'ressources': 1,\n",
       "         'nationales': 1,\n",
       "         'accompagnement': 1,\n",
       "         'formation': 1,\n",
       "         'nouveaux': 1,\n",
       "         'métiers': 1,\n",
       "         'b': 2,\n",
       "         'second': 1,\n",
       "         'début': 1,\n",
       "         'phrase': 3,\n",
       "         'mot': 3,\n",
       "         'remplacé': 1,\n",
       "         'mots': 5,\n",
       "         'forestière': 1,\n",
       "         'supprimée': 1,\n",
       "         'iv': 1,\n",
       "         'juillet': 2,\n",
       "         'orientation': 1,\n",
       "         'abrogé': 1,\n",
       "         'finances': 1,\n",
       "         'décembre': 1,\n",
       "         'financement': 2,\n",
       "         'public': 2,\n",
       "         'institué': 1,\n",
       "         'précitée': 1,\n",
       "         'remplacés': 1,\n",
       "         'titre': 1,\n",
       "         'ier': 1,\n",
       "         'performance': 1,\n",
       "         'économique': 1,\n",
       "         'environnementale': 1,\n",
       "         'rural': 1,\n",
       "         'pêche': 1,\n",
       "         'maritime': 1,\n",
       "         'intéressés': 1,\n",
       "         'établissement': 2,\n",
       "         'mentionné': 2,\n",
       "         'alimentaires': 1,\n",
       "         'conseil': 1,\n",
       "         'octobre': 1,\n",
       "         'journal': 1,\n",
       "         'officiel': 1,\n",
       "         'république': 1,\n",
       "         'française': 1,\n",
       "         'texte': 1})"
      ]
     },
     "execution_count": 32,
     "metadata": {},
     "output_type": "execute_result"
    }
   ],
   "source": [
    "import itertools\n",
    "from collections import Counter\n",
    "\n",
    "fr_result = Counter(itertools.chain(*processed_french_sentences))\n",
    "fr_result"
   ]
  },
  {
   "cell_type": "markdown",
   "id": "4024b30e",
   "metadata": {},
   "source": [
    "### Step 4 (vs1): Translate the Sentences\n",
    "This step produced reasonably tokenized sentences but ChatGPT did recognize some differences in word frequencies and terms so sticking with the original language until the end step."
   ]
  },
  {
   "cell_type": "code",
   "execution_count": 21,
   "id": "0730b201",
   "metadata": {},
   "outputs": [],
   "source": [
    "#sentences: The input text to be translated, \n",
    "#in this case preprocessed sentences\n",
    "#src_language: The source language code (default is 'fr' for French).\n",
    "#dest_language: The destination language code (default is 'en' for English).\n",
    "\n",
    "\n",
    "# Function to translate a list of sentences from French to English\n",
    "def translate_sentences(sentences, src_language='fr', dest_language='en'):\n",
    "    \n",
    "    #This creates an instance of the Translator class, \n",
    "    #i.e. a code template for creating an object\n",
    "    translator = Translator()\n",
    "    \n",
    "    #creates an empty list to hold translated sentences\n",
    "    translated_sentences = []\n",
    "    \n",
    "    #iterates through list of lists\n",
    "    #each sublist contains alphabetic tokens from a sentence\n",
    "    for sentence in sentences:\n",
    "        \n",
    "        #The translate method of the translator object \n",
    "        #returns an object: translated\n",
    "        translated = translator.translate(sentence, src=src_language, dest=dest_language)\n",
    "        #the empty list gets appended with the text from translated obj\n",
    "        translated_sentences.append(translated.text)\n",
    "    return translated_sentences"
   ]
  },
  {
   "cell_type": "code",
   "execution_count": 22,
   "id": "8d8b9792",
   "metadata": {},
   "outputs": [
    {
     "name": "stdout",
     "output_type": "stream",
     "text": [
      "Translated Sentences: ['\"V.-Policy in favor of agriculture and food takes into account the specifics of overseas\\nAs well as all the economic, social and environmental challenges of these territories.', \"She's\\nobjective of promoting the development of overseas agricultural productions, by supporting their access to markets,\\nresearch and innovation, organization and modernization of agriculture by structuring in sectors\\nCompetitive and sustainable organized, employment, satisfaction of local food demand by productions\\nlocal, the development of renewable energies, specific quality approaches and agriculture\\nfamily, as well as responding to the specifics of these territories in terms of animal health and plants.\", '\"VI.', '- the policy in favor of agriculture and food takes into account the specificities of the territories of\\nmountain, in application of article 8 of law no 85-30 of January 9, 1985 relating to development and\\nMountain protection.', 'It recognizes the positive contribution of farms to the maintenance of\\nThe space and the preservation of mountain natural environments, especially in terms of biodiversity.', 'She contributes\\nthe maintenance of agricultural activity in the mountains, by perpetuating the specific support systems which are\\ngranted to fight against the wasteland in the wasteland of the pastoral space and to preserve it from the prejudices\\ncaused by large predators.', '\"VII - Policy for agriculture and food takes into account the specificities of the areas\\nwet, in application of article L. 211-1 of the environment code.', '\" Art.', 'L. 2.', '- the policy of sea fisheries, aquaculture and art activities defined at\\nArticle L. 911-2 of this code contributes to the policy of food and the development of the regions\\ncoastlines, by promoting the competitiveness of the sector and the marketing of quality products, in the\\nof a sustainable exploitation of the resource.', '»»\\nII.', '-After 3o of article L. 111-2 of the same code, a 3o bis is inserted in this way written:\\n\"3o bis maintain and develop the sectors of breeding and pastoralism because of their contribution\\nessential for the development and development of territories;».', 'III.', '-article L. 121-1 of the forest code is thus modified:\\na) After the first paragraph, eight paragraphs are inserted as well as written:\\n\"The state watches:\\n\"1o to the adaptation of forest species in the middle;\\n\"2o has the optimization of carbon storage in wood and forests, wood and products made from\\ndrink ;\\n\"3o to maintain biological balance and diversity and the adaptation of forests to change\\nclimate;\\n\"4o has the regeneration of forest stands under satisfactory conditions of balance Sylvo-\\nhunting, within the meaning of the last paragraph of article L. 425-4 of the environment code;\\n\"5o has the satisfaction of the needs of the wood industries, in particular by the balance of the age classes of\\nforest stands at the national level;\\n\"6o to strengthen the competitiveness and sustainability of wood use sectors, by valuation\\noptimal national forest resources and by supporting new professions of the\\ndrink ;\\n“7o to the development of territories.', '»;\\nb) The second paragraph is thus modified:\\n- At the start of the first sentence, the word: \"She\" is replaced by the words: \"forestry policy\";\\n- The third sentence is deleted.', 'IV.', '-Article 1 of Law No. 99-574 of July 9, 1999 of agricultural orientation is repealed.', 'V.-At the first sentence of III of article 124 of the finance law for 2002 (no 2001-1275 of December 28\\n2001), the words: \"public funding established in article 1 of law no 99-574 of July 9, 1999 aforementioned\" are\\nReplaced by the words: \"public funding\".', 'Title I\\nEconomic and environmental performance\\nAgricultural and agro-food sectors\\nArticle 2\\nI.', '-Article L. 611-1 of the rural and maritime fishing code is thus modified:\\n1o The first paragraph is thus modified:\\na) After the word: \"interested\", the words: \", of the establishment mentioned in article L. 621-1, of\\nthe establishment mentioned in article L. 681-3, regions \";\\nb) After the word: \"food\", the words: \"and the National Mountain Council\" are inserted;\\nOctober 14, 2014\\nOfficial Journal of the French Republic\\nText 1 of 105']\n"
     ]
    }
   ],
   "source": [
    "#Translate the French sentences to English\n",
    "#reverting back to the full sentences as Google Translate won't be able \n",
    "#to properly translate with the context of the full sentences\n",
    "translated_sentences = translate_sentences(french_sentences)\n",
    "print(\"Translated Sentences:\", translated_sentences)"
   ]
  },
  {
   "cell_type": "code",
   "execution_count": 25,
   "id": "4a781a07",
   "metadata": {
    "scrolled": true
   },
   "outputs": [
    {
     "name": "stdout",
     "output_type": "stream",
     "text": [
      "Processed Translated Sentences: [['favor', 'agriculture', 'food', 'takes', 'account', 'specifics', 'overseas', 'economic', 'social', 'environmental', 'challenges', 'territories'], ['objective', 'promoting', 'development', 'overseas', 'agricultural', 'productions', 'supporting', 'access', 'markets', 'research', 'innovation', 'organization', 'modernization', 'agriculture', 'structuring', 'sectors', 'competitive', 'sustainable', 'organized', 'employment', 'satisfaction', 'local', 'food', 'demand', 'productions', 'local', 'development', 'renewable', 'energies', 'specific', 'quality', 'approaches', 'agriculture', 'family', 'responding', 'specifics', 'territories', 'terms', 'animal', 'health', 'plants'], ['vi'], ['policy', 'favor', 'agriculture', 'food', 'takes', 'account', 'specificities', 'territories', 'mountain', 'application', 'article', 'law', 'january', 'relating', 'development', 'mountain', 'protection'], ['recognizes', 'positive', 'contribution', 'farms', 'maintenance', 'space', 'preservation', 'mountain', 'natural', 'environments', 'especially', 'terms', 'biodiversity'], ['contributes', 'maintenance', 'agricultural', 'activity', 'mountains', 'perpetuating', 'specific', 'support', 'systems', 'granted', 'fight', 'wasteland', 'wasteland', 'pastoral', 'space', 'preserve', 'prejudices', 'caused', 'large', 'predators'], ['vii', 'policy', 'agriculture', 'food', 'takes', 'account', 'specificities', 'areas', 'wet', 'application', 'article', 'environment', 'code'], ['art'], [], ['policy', 'sea', 'fisheries', 'aquaculture', 'art', 'activities', 'defined', 'article', 'code', 'contributes', 'policy', 'food', 'development', 'regions', 'coastlines', 'promoting', 'competitiveness', 'sector', 'marketing', 'quality', 'products', 'sustainable', 'exploitation', 'resource'], ['ii'], ['article', 'code', 'bis', 'inserted', 'way', 'written', 'bis', 'maintain', 'develop', 'sectors', 'breeding', 'pastoralism', 'contribution', 'essential', 'development', 'development', 'territories'], ['iii'], ['forest', 'code', 'modified', 'paragraph', 'paragraphs', 'inserted', 'written', 'state', 'watches', 'adaptation', 'forest', 'species', 'middle', 'optimization', 'carbon', 'storage', 'wood', 'forests', 'wood', 'products', 'drink', 'maintain', 'biological', 'balance', 'diversity', 'adaptation', 'forests', 'change', 'climate', 'regeneration', 'forest', 'stands', 'satisfactory', 'conditions', 'balance', 'hunting', 'meaning', 'paragraph', 'article', 'environment', 'code', 'satisfaction', 'needs', 'wood', 'industries', 'particular', 'balance', 'age', 'classes', 'forest', 'stands', 'national', 'level', 'strengthen', 'competitiveness', 'sustainability', 'wood', 'use', 'sectors', 'valuation', 'optimal', 'national', 'forest', 'resources', 'supporting', 'new', 'professions', 'drink', 'development', 'territories'], ['b', 'second', 'paragraph', 'modified', 'start', 'sentence', 'word', 'replaced', 'words', 'forestry', 'policy', 'sentence', 'deleted'], ['iv'], ['law', 'july', 'agricultural', 'orientation', 'repealed'], ['sentence', 'iii', 'article', 'finance', 'law', 'december', 'words', 'public', 'funding', 'established', 'article', 'law', 'july', 'aforementioned', 'replaced', 'words', 'public', 'funding'], ['title', 'economic', 'environmental', 'performance', 'agricultural', 'agro', 'food', 'sectors', 'article'], ['rural', 'maritime', 'fishing', 'code', 'modified', 'paragraph', 'modified', 'word', 'interested', 'words', 'establishment', 'mentioned', 'article', 'establishment', 'mentioned', 'article', 'regions', 'b', 'word', 'food', 'words', 'national', 'mountain', 'council', 'inserted', 'october', 'official', 'journal', 'french', 'republic', 'text']]\n"
     ]
    }
   ],
   "source": [
    "#Load spacy's English model\n",
    "#to test tokenization of translated text\n",
    "nlp_en = spacy.load('en_core_web_sm')\n",
    "\n",
    "def preprocess_english_sentences(sentences):\n",
    "    processed_sentences = []\n",
    "    for sentence in sentences:\n",
    "        doc = nlp_en(sentence.lower())\n",
    "        words = [token.text for token in doc if token.is_alpha and not token.is_stop]\n",
    "        processed_sentences.append(words)\n",
    "    return processed_sentences\n",
    "\n",
    "processed_english_sentences = preprocess_english_sentences(translated_sentences)\n",
    "print(\"Processed Translated Sentences:\", processed_english_sentences)\n",
    "\n",
    "#This did OK but it did pick out single letters 'b' and numbers 'vi'"
   ]
  },
  {
   "cell_type": "code",
   "execution_count": 28,
   "id": "4534933c",
   "metadata": {},
   "outputs": [
    {
     "name": "stdout",
     "output_type": "stream",
     "text": [
      "20\n"
     ]
    }
   ],
   "source": [
    "print(countList(processed_english_sentences)) #20"
   ]
  },
  {
   "cell_type": "code",
   "execution_count": 33,
   "id": "94e95fbb",
   "metadata": {},
   "outputs": [
    {
     "data": {
      "text/plain": [
       "Counter({'favor': 2,\n",
       "         'agriculture': 5,\n",
       "         'food': 7,\n",
       "         'takes': 3,\n",
       "         'account': 3,\n",
       "         'specifics': 2,\n",
       "         'overseas': 2,\n",
       "         'economic': 2,\n",
       "         'social': 1,\n",
       "         'environmental': 2,\n",
       "         'challenges': 1,\n",
       "         'territories': 5,\n",
       "         'objective': 1,\n",
       "         'promoting': 2,\n",
       "         'development': 7,\n",
       "         'agricultural': 4,\n",
       "         'productions': 2,\n",
       "         'supporting': 2,\n",
       "         'access': 1,\n",
       "         'markets': 1,\n",
       "         'research': 1,\n",
       "         'innovation': 1,\n",
       "         'organization': 1,\n",
       "         'modernization': 1,\n",
       "         'structuring': 1,\n",
       "         'sectors': 4,\n",
       "         'competitive': 1,\n",
       "         'sustainable': 2,\n",
       "         'organized': 1,\n",
       "         'employment': 1,\n",
       "         'satisfaction': 2,\n",
       "         'local': 2,\n",
       "         'demand': 1,\n",
       "         'renewable': 1,\n",
       "         'energies': 1,\n",
       "         'specific': 2,\n",
       "         'quality': 2,\n",
       "         'approaches': 1,\n",
       "         'family': 1,\n",
       "         'responding': 1,\n",
       "         'terms': 2,\n",
       "         'animal': 1,\n",
       "         'health': 1,\n",
       "         'plants': 1,\n",
       "         'vi': 1,\n",
       "         'policy': 5,\n",
       "         'specificities': 2,\n",
       "         'mountain': 4,\n",
       "         'application': 2,\n",
       "         'article': 10,\n",
       "         'law': 4,\n",
       "         'january': 1,\n",
       "         'relating': 1,\n",
       "         'protection': 1,\n",
       "         'recognizes': 1,\n",
       "         'positive': 1,\n",
       "         'contribution': 2,\n",
       "         'farms': 1,\n",
       "         'maintenance': 2,\n",
       "         'space': 2,\n",
       "         'preservation': 1,\n",
       "         'natural': 1,\n",
       "         'environments': 1,\n",
       "         'especially': 1,\n",
       "         'biodiversity': 1,\n",
       "         'contributes': 2,\n",
       "         'activity': 1,\n",
       "         'mountains': 1,\n",
       "         'perpetuating': 1,\n",
       "         'support': 1,\n",
       "         'systems': 1,\n",
       "         'granted': 1,\n",
       "         'fight': 1,\n",
       "         'wasteland': 2,\n",
       "         'pastoral': 1,\n",
       "         'preserve': 1,\n",
       "         'prejudices': 1,\n",
       "         'caused': 1,\n",
       "         'large': 1,\n",
       "         'predators': 1,\n",
       "         'vii': 1,\n",
       "         'areas': 1,\n",
       "         'wet': 1,\n",
       "         'environment': 2,\n",
       "         'code': 6,\n",
       "         'art': 2,\n",
       "         'sea': 1,\n",
       "         'fisheries': 1,\n",
       "         'aquaculture': 1,\n",
       "         'activities': 1,\n",
       "         'defined': 1,\n",
       "         'regions': 2,\n",
       "         'coastlines': 1,\n",
       "         'competitiveness': 2,\n",
       "         'sector': 1,\n",
       "         'marketing': 1,\n",
       "         'products': 2,\n",
       "         'exploitation': 1,\n",
       "         'resource': 1,\n",
       "         'ii': 1,\n",
       "         'bis': 2,\n",
       "         'inserted': 3,\n",
       "         'way': 1,\n",
       "         'written': 2,\n",
       "         'maintain': 2,\n",
       "         'develop': 1,\n",
       "         'breeding': 1,\n",
       "         'pastoralism': 1,\n",
       "         'essential': 1,\n",
       "         'iii': 2,\n",
       "         'forest': 5,\n",
       "         'modified': 4,\n",
       "         'paragraph': 4,\n",
       "         'paragraphs': 1,\n",
       "         'state': 1,\n",
       "         'watches': 1,\n",
       "         'adaptation': 2,\n",
       "         'species': 1,\n",
       "         'middle': 1,\n",
       "         'optimization': 1,\n",
       "         'carbon': 1,\n",
       "         'storage': 1,\n",
       "         'wood': 4,\n",
       "         'forests': 2,\n",
       "         'drink': 2,\n",
       "         'biological': 1,\n",
       "         'balance': 3,\n",
       "         'diversity': 1,\n",
       "         'change': 1,\n",
       "         'climate': 1,\n",
       "         'regeneration': 1,\n",
       "         'stands': 2,\n",
       "         'satisfactory': 1,\n",
       "         'conditions': 1,\n",
       "         'hunting': 1,\n",
       "         'meaning': 1,\n",
       "         'needs': 1,\n",
       "         'industries': 1,\n",
       "         'particular': 1,\n",
       "         'age': 1,\n",
       "         'classes': 1,\n",
       "         'national': 3,\n",
       "         'level': 1,\n",
       "         'strengthen': 1,\n",
       "         'sustainability': 1,\n",
       "         'use': 1,\n",
       "         'valuation': 1,\n",
       "         'optimal': 1,\n",
       "         'resources': 1,\n",
       "         'new': 1,\n",
       "         'professions': 1,\n",
       "         'b': 2,\n",
       "         'second': 1,\n",
       "         'start': 1,\n",
       "         'sentence': 3,\n",
       "         'word': 3,\n",
       "         'replaced': 2,\n",
       "         'words': 5,\n",
       "         'forestry': 1,\n",
       "         'deleted': 1,\n",
       "         'iv': 1,\n",
       "         'july': 2,\n",
       "         'orientation': 1,\n",
       "         'repealed': 1,\n",
       "         'finance': 1,\n",
       "         'december': 1,\n",
       "         'public': 2,\n",
       "         'funding': 2,\n",
       "         'established': 1,\n",
       "         'aforementioned': 1,\n",
       "         'title': 1,\n",
       "         'performance': 1,\n",
       "         'agro': 1,\n",
       "         'rural': 1,\n",
       "         'maritime': 1,\n",
       "         'fishing': 1,\n",
       "         'interested': 1,\n",
       "         'establishment': 2,\n",
       "         'mentioned': 2,\n",
       "         'council': 1,\n",
       "         'october': 1,\n",
       "         'official': 1,\n",
       "         'journal': 1,\n",
       "         'french': 1,\n",
       "         'republic': 1,\n",
       "         'text': 1})"
      ]
     },
     "execution_count": 33,
     "metadata": {},
     "output_type": "execute_result"
    }
   ],
   "source": [
    "en_result = Counter(itertools.chain(*processed_english_sentences))\n",
    "en_result"
   ]
  },
  {
   "cell_type": "markdown",
   "id": "0dd54156",
   "metadata": {},
   "source": [
    "### Step 4 (vs2):  Perform Topic Modeling"
   ]
  },
  {
   "cell_type": "code",
   "execution_count": 39,
   "id": "8a059cfd",
   "metadata": {},
   "outputs": [
    {
     "name": "stdout",
     "output_type": "stream",
     "text": [
      "Dictionary<5 unique tokens: ['bonjour', 'monde', 'exemple', 'français', 'texte']>\n"
     ]
    },
    {
     "data": {
      "text/plain": [
       "[[(0, 1), (1, 2)], [(2, 1), (3, 1), (4, 1)]]"
      ]
     },
     "execution_count": 39,
     "metadata": {},
     "output_type": "execute_result"
    }
   ],
   "source": [
    "test_french_sentences= [[\"bonjour\", \"monde\", \"monde\"], [\"exemple\", \"texte\", \"français\"]]\n",
    "dictionary = corpora.Dictionary(test_french_sentences)\n",
    "print(dictionary)\n",
    "\n",
    "\n",
    "corpus = [dictionary.doc2bow(sentence) for sentence in test_french_sentences]\n",
    "corpus\n",
    "\n",
    "#The dictionary mapped words to IDs {\"bonjour\": 0, \"monde\": 1, \"exemple\": 2, \"texte\": 3, \"français\": 4}\n",
    "#The corpus would then show the frequncy of the word along with its ID [[(0, 1), (1, 1)], [(2, 1), (3, 1), (4, 1)]]"
   ]
  },
  {
   "cell_type": "code",
   "execution_count": 40,
   "id": "3b9ef9ee",
   "metadata": {},
   "outputs": [
    {
     "name": "stdout",
     "output_type": "stream",
     "text": [
      "Topic 0: 0.026*\"agriculture\" + 0.019*\"spécificités\" + 0.018*\"territoires\" + 0.018*\"développement\"\n",
      "Topic 1: 0.029*\"article\" + 0.029*\"bois\" + 0.015*\"alinéa\" + 0.015*\"modifié\"\n",
      "Topic 2: 0.039*\"article\" + 0.029*\"politique\" + 0.023*\"loi\" + 0.023*\"no\"\n"
     ]
    }
   ],
   "source": [
    "# Create a dictionary and corpus for the LDA model\n",
    "#Creates a dictionary from the list of processed sentences.\n",
    "#This dictionary maps each word to a unique ID and keeps track of the frequency of each word.\n",
    "dictionary = corpora.Dictionary(processed_french_sentences)\n",
    "\n",
    "#In NLP, a corpus is a collection of written texts. \n",
    "#In this context, the corpus consists of the processed sentences from the PDF, \n",
    "#This method converts each sentence (list of words) into a bag-of-words (BOW) format.\n",
    "#where each sentence is represented as a bag-of-words (i.e., a list of word frequencies)\n",
    "corpus = [dictionary.doc2bow(sentence) for sentence in processed_french_sentences]\n",
    "\n",
    "#Build the LDA model\n",
    "#LDA = Latent Dirichlet Allocation, a type of generative statistical model \n",
    "#that allows sets of observations to be explained by unobserved groups\n",
    "#The topics it recognizes are considred \"unobserved groups\" \n",
    "#because they are not explicitly labeled in the data; instead, they are inferred from the data.\n",
    "\n",
    "#In the context of topic modeling, LDA is used to identify topics within a collection of documents. \n",
    "#Each document is represented as a distribution over topics, \n",
    "#and each topic is represented as a distribution over words.\n",
    "\n",
    "#This function initializes and trains an LDA model\n",
    "#corpus is the input\n",
    "#since the dataset is small, 3 topics will do\n",
    "#in practice, you can use coherence scores to det. best # topics\n",
    "#id2word: specifies the mapping of word IDs to actual words using the dictionary.\n",
    "#parameter specifies the number of iterations the model will run over the entire corpus. \n",
    "#More passes generally lead to a better model at the cost of longer training time.\n",
    "#15 passes is a reasonable balance between model quality and computational time for illustrative purposes.\n",
    "#In practice, you might start with a lower number of passes and increase it \n",
    "#until the model's performance no longer significantly improves\n",
    "lda_model = gensim.models.LdaModel(corpus, num_topics=3, id2word=dictionary, passes=15)\n",
    "\n",
    "#Prints the topics discovered by the model\n",
    "#This is the topic index\n",
    "#num_words: specifies that the top 4 words for each topic should be printed.\n",
    "for idx, topic in lda_model.print_topics(num_words=4):\n",
    "    print(f\"Topic {idx}: {topic}\")"
   ]
  },
  {
   "cell_type": "code",
   "execution_count": 41,
   "id": "b17c4bd0",
   "metadata": {},
   "outputs": [
    {
     "data": {
      "image/png": "[encoded data removed]",
      "text/plain": [
       "<Figure size 640x480 with 1 Axes>"
      ]
     },
     "metadata": {},
     "output_type": "display_data"
    }
   ],
   "source": [
    "#Coherence scores to det. #Num topics for LDA Model\n",
    "\n",
    "#The optimal number of topics is determined by selecting the number of topics \n",
    "#that produces the highest coherence score \n",
    "#from https://www.researchgate.net/publication/338491281_Yoga-Veganism_Correlation_Mining_of_Twitter_Health_Data\n",
    "\n",
    "from gensim.models import CoherenceModel\n",
    "\n",
    "def compute_coherence_values(dictionary, corpus, texts, limit, start=2, step=3):\n",
    "    coherence_values = []\n",
    "    model_list = []\n",
    "    for num_topics in range(start, limit, step):\n",
    "        model = gensim.models.LdaModel(corpus=corpus, num_topics=num_topics, id2word=dictionary, passes=15)\n",
    "        model_list.append(model)\n",
    "        coherencemodel = CoherenceModel(model=model, texts=texts, dictionary=dictionary, coherence='c_v')\n",
    "        coherence_values.append(coherencemodel.get_coherence())\n",
    "    return model_list, coherence_values\n",
    "\n",
    "model_list, coherence_values = compute_coherence_values(dictionary=dictionary, corpus=corpus, texts=processed_french_sentences, start=2, limit=10, step=1)\n",
    "\n",
    "# Plot coherence values\n",
    "import matplotlib.pyplot as plt\n",
    "\n",
    "x = range(2, 10, 1)\n",
    "plt.plot(x, coherence_values)\n",
    "plt.xlabel(\"Num Topics\")\n",
    "plt.ylabel(\"Coherence score\")\n",
    "plt.legend(\"coherence_values\", loc='best')\n",
    "plt.show()"
   ]
  },
  {
   "cell_type": "code",
   "execution_count": 45,
   "id": "407822f3",
   "metadata": {},
   "outputs": [
    {
     "name": "stdout",
     "output_type": "stream",
     "text": [
      "Topic 0: 0.034*\"article\" + 0.034*\"agricole\" + 0.034*\"abrogé\" + 0.034*\"orientation\"\n",
      "Topic 1: 0.044*\"article\" + 0.044*\"no\" + 0.044*\"loi\" + 0.044*\"mots\"\n",
      "Topic 2: 0.033*\"filières\" + 0.033*\"agricoles\" + 0.033*\"article\" + 0.033*\"performance\"\n",
      "Topic 3: 0.053*\"article\" + 0.040*\"montagne\" + 0.027*\"mots\" + 0.027*\"établissement\"\n",
      "Topic 4: 0.044*\"politique\" + 0.033*\"alimentation\" + 0.023*\"compte\" + 0.023*\"faveur\"\n",
      "Topic 5: 0.035*\"phrase\" + 0.019*\"alinéa\" + 0.019*\"modifié\" + 0.019*\"forestière\"\n",
      "Topic 6: 0.037*\"développement\" + 0.025*\"bis\" + 0.025*\"territoires\" + 0.025*\"productions\"\n",
      "Topic 7: 0.060*\"bois\" + 0.031*\"équilibre\" + 0.021*\"article\" + 0.021*\"forestières\"\n"
     ]
    }
   ],
   "source": [
    "#trying it again with 8 topics\n",
    "lda_model = gensim.models.LdaModel(corpus, num_topics=8, id2word=dictionary, passes=15)\n",
    "\n",
    "#Prints the topics discovered by the model\n",
    "#This is the topic index\n",
    "#num_words: specifies that the top 4 words for each topic should be printed.\n",
    "for idx, topic in lda_model.print_topics(num_words=4):\n",
    "    print(f\"Topic {idx}: {topic}\")"
   ]
  },
  {
   "cell_type": "markdown",
   "id": "4747d0ea",
   "metadata": {},
   "source": [
    "### Step 5: Translate Topics into English"
   ]
  },
  {
   "cell_type": "code",
   "execution_count": 46,
   "id": "4d31f848",
   "metadata": {},
   "outputs": [
    {
     "name": "stdout",
     "output_type": "stream",
     "text": [
      "Translated Topics: ['Agricultural article repealed orientation', 'article no law words', 'Agricultural sectors Article Performance', 'Mountain article Words Establishment', 'Food Policy Account Account', 'Forest Modified Personal Standard', 'Development Bis Territories Productions', 'Forestry Wood Forestry']\n"
     ]
    }
   ],
   "source": [
    "# Function to translate topics\n",
    "def translate_topics(topics, src_language='fr', dest_language='en'):\n",
    "    translator = Translator()\n",
    "    translated_topics = []\n",
    "    for topic in topics:\n",
    "        translated_topic = translator.translate(topic, src=src_language, dest=dest_language).text\n",
    "        translated_topics.append(translated_topic)\n",
    "    return translated_topics\n",
    "\n",
    "# Extract topic words from French LDA model\n",
    "#initializes empty topic list\n",
    "topics = []\n",
    "#iterates over each topic discovered by the LDA model\n",
    "for idx, topic in lda_model.print_topics(num_words=4):\n",
    "    #splits the topic string into individual word components\n",
    "    #topics are returned as a string with words separated by ' + '\n",
    "    topic_words = topic.split(' + ')\n",
    "    #The space character ' ' is used as the separator in the join method\n",
    "    #Each word in topic_words is split by '*', \n",
    "    #which separates the weight and the word itself. \n",
    "    #and extracts the word part (the second element after splitting)\n",
    "    #appends the cleaned and joined string to the topics \n",
    "    #.strip().strip('\"'): removes any leading/trailing whitespace \n",
    "    #and any enclosing double quotes around the word.\n",
    "    topics.append(' '.join(word.split('*')[1].strip().strip('\"') for word in topic_words))\n",
    "\n",
    "# Translate topics\n",
    "translated_topics = translate_topics(topics)\n",
    "print(\"Translated Topics:\", translated_topics)"
   ]
  },
  {
   "cell_type": "markdown",
   "id": "81a5de03",
   "metadata": {},
   "source": [
    "### Step 6: Visualize the Topics"
   ]
  },
  {
   "cell_type": "code",
   "execution_count": 55,
   "id": "6681a560",
   "metadata": {},
   "outputs": [],
   "source": [
    "# Ensure pyLDAvis is using local files for CSS and JS\n",
    "pyLDAvis.urls.LDAVIS_CSS_URL = './pyLDAvis_local/ldavis.v1.0.0.css'\n",
    "pyLDAvis.urls.LDAVIS_JS_URL = './pyLDAvis_local/ldavis.v1.0.0.js'"
   ]
  },
  {
   "cell_type": "code",
   "execution_count": 57,
   "id": "1b55c53c",
   "metadata": {},
   "outputs": [
    {
     "name": "stderr",
     "output_type": "stream",
     "text": [
      "/Users/jenniferbadger/opt/anaconda3/lib/python3.8/site-packages/pyLDAvis/_prepare.py:246: FutureWarning: In a future version of pandas all arguments of DataFrame.drop except for the argument 'labels' will be keyword-only.\n",
      "  default_term_info = default_term_info.sort_values(\n"
     ]
    },
    {
     "ename": "FileNotFoundError",
     "evalue": "[Errno 2] No such file or directory: './pyLDAvis_local/ldavis.v1.0.0.css'",
     "output_type": "error",
     "traceback": [
      "\u001b[0;31m---------------------------------------------------------------------------\u001b[0m",
      "\u001b[0;31mFileNotFoundError\u001b[0m                         Traceback (most recent call last)",
      "Cell \u001b[0;32mIn[57], line 4\u001b[0m\n\u001b[1;32m      2\u001b[0m pyLDAvis\u001b[38;5;241m.\u001b[39menable_notebook()\n\u001b[1;32m      3\u001b[0m lda_display \u001b[38;5;241m=\u001b[39m pyLDAvis\u001b[38;5;241m.\u001b[39mgensim_models\u001b[38;5;241m.\u001b[39mprepare(lda_model, corpus, dictionary, sort_topics\u001b[38;5;241m=\u001b[39m\u001b[38;5;28;01mFalse\u001b[39;00m)\n\u001b[0;32m----> 4\u001b[0m \u001b[43mpyLDAvis\u001b[49m\u001b[38;5;241;43m.\u001b[39;49m\u001b[43mshow\u001b[49m\u001b[43m(\u001b[49m\u001b[43mlda_display\u001b[49m\u001b[43m)\u001b[49m\n",
      "File \u001b[0;32m~/opt/anaconda3/lib/python3.8/site-packages/pyLDAvis/_display.py:262\u001b[0m, in \u001b[0;36mshow\u001b[0;34m(data, ip, port, n_retries, local, open_browser, http_server, **kwargs)\u001b[0m\n\u001b[1;32m    259\u001b[0m     kwargs[\u001b[38;5;124m'\u001b[39m\u001b[38;5;124md3_url\u001b[39m\u001b[38;5;124m'\u001b[39m] \u001b[38;5;241m=\u001b[39m urls\u001b[38;5;241m.\u001b[39mD3_URL\n\u001b[1;32m    260\u001b[0m     kwargs[\u001b[38;5;124m'\u001b[39m\u001b[38;5;124mldavis_css_url\u001b[39m\u001b[38;5;124m'\u001b[39m] \u001b[38;5;241m=\u001b[39m urls\u001b[38;5;241m.\u001b[39mLDAVIS_CSS_URL\n\u001b[1;32m    261\u001b[0m     files \u001b[38;5;241m=\u001b[39m {\u001b[38;5;124m'\u001b[39m\u001b[38;5;124m/LDAvis.js\u001b[39m\u001b[38;5;124m'\u001b[39m: [\u001b[38;5;124m\"\u001b[39m\u001b[38;5;124mtext/javascript\u001b[39m\u001b[38;5;124m\"\u001b[39m, \u001b[38;5;28mopen\u001b[39m(urls\u001b[38;5;241m.\u001b[39mLDAVIS_LOCAL, \u001b[38;5;124m'\u001b[39m\u001b[38;5;124mr\u001b[39m\u001b[38;5;124m'\u001b[39m)\u001b[38;5;241m.\u001b[39mread()],\n\u001b[0;32m--> 262\u001b[0m              \u001b[38;5;124m'\u001b[39m\u001b[38;5;124m/LDAvis.css\u001b[39m\u001b[38;5;124m'\u001b[39m: [\u001b[38;5;124m\"\u001b[39m\u001b[38;5;124mtext/css\u001b[39m\u001b[38;5;124m\"\u001b[39m, \u001b[38;5;28;43mopen\u001b[39;49m\u001b[43m(\u001b[49m\u001b[43murls\u001b[49m\u001b[38;5;241;43m.\u001b[39;49m\u001b[43mLDAVIS_CSS_URL\u001b[49m\u001b[43m,\u001b[49m\u001b[43m \u001b[49m\u001b[38;5;124;43m'\u001b[39;49m\u001b[38;5;124;43mr\u001b[39;49m\u001b[38;5;124;43m'\u001b[39;49m\u001b[43m)\u001b[49m\u001b[38;5;241m.\u001b[39mread()],\n\u001b[1;32m    263\u001b[0m              \u001b[38;5;124m'\u001b[39m\u001b[38;5;124m/d3.js\u001b[39m\u001b[38;5;124m'\u001b[39m: [\u001b[38;5;124m\"\u001b[39m\u001b[38;5;124mtext/javascript\u001b[39m\u001b[38;5;124m\"\u001b[39m, \u001b[38;5;28mopen\u001b[39m(urls\u001b[38;5;241m.\u001b[39mD3_URL, \u001b[38;5;124m'\u001b[39m\u001b[38;5;124mr\u001b[39m\u001b[38;5;124m'\u001b[39m)\u001b[38;5;241m.\u001b[39mread()]}\n\u001b[1;32m    264\u001b[0m html \u001b[38;5;241m=\u001b[39m prepared_data_to_html(data, \u001b[38;5;241m*\u001b[39m\u001b[38;5;241m*\u001b[39mkwargs)\n\u001b[1;32m    265\u001b[0m serve(html, ip\u001b[38;5;241m=\u001b[39mip, port\u001b[38;5;241m=\u001b[39mport, n_retries\u001b[38;5;241m=\u001b[39mn_retries, files\u001b[38;5;241m=\u001b[39mfiles,\n\u001b[1;32m    266\u001b[0m       open_browser\u001b[38;5;241m=\u001b[39mopen_browser, http_server\u001b[38;5;241m=\u001b[39mhttp_server)\n",
      "\u001b[0;31mFileNotFoundError\u001b[0m: [Errno 2] No such file or directory: './pyLDAvis_local/ldavis.v1.0.0.css'"
     ]
    }
   ],
   "source": [
    "# Visualize the topics\n",
    "pyLDAvis.enable_notebook()\n",
    "lda_display = pyLDAvis.gensim_models.prepare(lda_model, corpus, dictionary, sort_topics=False)\n",
    "pyLDAvis.show(lda_display)"
   ]
  },
  {
   "cell_type": "code",
   "execution_count": 54,
   "id": "ef30575a",
   "metadata": {},
   "outputs": [
    {
     "name": "stdout",
     "output_type": "stream",
     "text": [
      "Requirement already satisfied: pyLDAvis in /Users/jenniferbadger/opt/anaconda3/lib/python3.8/site-packages (3.3.1)\n",
      "Requirement already satisfied: numpy>=1.20.0 in /Users/jenniferbadger/opt/anaconda3/lib/python3.8/site-packages (from pyLDAvis) (1.24.1)\n",
      "Requirement already satisfied: scipy in /Users/jenniferbadger/opt/anaconda3/lib/python3.8/site-packages (from pyLDAvis) (1.10.1)\n",
      "Requirement already satisfied: pandas>=1.2.0 in /Users/jenniferbadger/opt/anaconda3/lib/python3.8/site-packages (from pyLDAvis) (1.5.3)\n",
      "Requirement already satisfied: joblib in /Users/jenniferbadger/opt/anaconda3/lib/python3.8/site-packages (from pyLDAvis) (1.4.2)\n",
      "Requirement already satisfied: jinja2 in /Users/jenniferbadger/opt/anaconda3/lib/python3.8/site-packages (from pyLDAvis) (3.1.3)\n",
      "Requirement already satisfied: numexpr in /Users/jenniferbadger/opt/anaconda3/lib/python3.8/site-packages (from pyLDAvis) (2.8.4)\n",
      "Requirement already satisfied: future in /Users/jenniferbadger/opt/anaconda3/lib/python3.8/site-packages (from pyLDAvis) (1.0.0)\n",
      "Requirement already satisfied: funcy in /Users/jenniferbadger/opt/anaconda3/lib/python3.8/site-packages (from pyLDAvis) (2.0)\n",
      "Collecting sklearn (from pyLDAvis)\n",
      "  Using cached sklearn-0.0.post12.tar.gz (2.6 kB)\n",
      "  Preparing metadata (setup.py) ... \u001b[?25lerror\n",
      "  \u001b[1;31merror\u001b[0m: \u001b[1msubprocess-exited-with-error\u001b[0m\n",
      "  \n",
      "  \u001b[31m×\u001b[0m \u001b[32mpython setup.py egg_info\u001b[0m did not run successfully.\n",
      "  \u001b[31m│\u001b[0m exit code: \u001b[1;36m1\u001b[0m\n",
      "  \u001b[31m╰─>\u001b[0m \u001b[31m[15 lines of output]\u001b[0m\n",
      "  \u001b[31m   \u001b[0m The 'sklearn' PyPI package is deprecated, use 'scikit-learn'\n",
      "  \u001b[31m   \u001b[0m rather than 'sklearn' for pip commands.\n",
      "  \u001b[31m   \u001b[0m \n",
      "  \u001b[31m   \u001b[0m Here is how to fix this error in the main use cases:\n",
      "  \u001b[31m   \u001b[0m - use 'pip install scikit-learn' rather than 'pip install sklearn'\n",
      "  \u001b[31m   \u001b[0m - replace 'sklearn' by 'scikit-learn' in your pip requirements files\n",
      "  \u001b[31m   \u001b[0m   (requirements.txt, setup.py, setup.cfg, Pipfile, etc ...)\n",
      "  \u001b[31m   \u001b[0m - if the 'sklearn' package is used by one of your dependencies,\n",
      "  \u001b[31m   \u001b[0m   it would be great if you take some time to track which package uses\n",
      "  \u001b[31m   \u001b[0m   'sklearn' instead of 'scikit-learn' and report it to their issue tracker\n",
      "  \u001b[31m   \u001b[0m - as a last resort, set the environment variable\n",
      "  \u001b[31m   \u001b[0m   SKLEARN_ALLOW_DEPRECATED_SKLEARN_PACKAGE_INSTALL=True to avoid this error\n",
      "  \u001b[31m   \u001b[0m \n",
      "  \u001b[31m   \u001b[0m More information is available at\n",
      "  \u001b[31m   \u001b[0m https://github.com/scikit-learn/sklearn-pypi-package\n",
      "  \u001b[31m   \u001b[0m \u001b[31m[end of output]\u001b[0m\n",
      "  \n",
      "  \u001b[1;35mnote\u001b[0m: This error originates from a subprocess, and is likely not a problem with pip.\n",
      "\u001b[1;31merror\u001b[0m: \u001b[1mmetadata-generation-failed\u001b[0m\n",
      "\n",
      "\u001b[31m×\u001b[0m Encountered error while generating package metadata.\n",
      "\u001b[31m╰─>\u001b[0m See above for output.\n",
      "\n",
      "\u001b[1;35mnote\u001b[0m: This is an issue with the package mentioned above, not pip.\n",
      "\u001b[1;36mhint\u001b[0m: See above for details.\n",
      "\u001b[?25h"
     ]
    }
   ],
   "source": [
    "!pip install pyLDAvis"
   ]
  },
  {
   "cell_type": "code",
   "execution_count": null,
   "id": "3cd68c94",
   "metadata": {},
   "outputs": [],
   "source": []
  }
 ],
 "metadata": {
  "kernelspec": {
   "display_name": "Python 3 (ipykernel)",
   "language": "python",
   "name": "python3"
  },
  "language_info": {
   "codemirror_mode": {
    "name": "ipython",
    "version": 3
   },
   "file_extension": ".py",
   "mimetype": "text/x-python",
   "name": "python",
   "nbconvert_exporter": "python",
   "pygments_lexer": "ipython3",
   "version": "3.8.15"
  }
 },
 "nbformat": 4,
 "nbformat_minor": 5
}
