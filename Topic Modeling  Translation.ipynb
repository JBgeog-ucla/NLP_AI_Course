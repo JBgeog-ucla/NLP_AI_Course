{
 "cells": [
  {
   "cell_type": "markdown",
   "id": "4e274896",
   "metadata": {},
   "source": [
    "# NLP Topic Modeling Using Spacy Language Models\n"
   ]
  },
  {
   "cell_type": "code",
   "execution_count": null,
   "id": "6c7cfce9",
   "metadata": {},
   "outputs": [],
   "source": [
    "#next steps: open a new notebook\n",
    "#use python GPT to complete 'assignment'\n",
    "#Graduate Level Assignment: Topic Modeling on Translated Sentences from PDF Using spaCy French Model\n",
    "\n",
    "#Next feed Loi pdf to ChatGPT and see how it does with translation"
   ]
  },
  {
   "cell_type": "code",
   "execution_count": 2,
   "id": "aa6e6039",
   "metadata": {},
   "outputs": [
    {
     "name": "stdout",
     "output_type": "stream",
     "text": [
      "Requirement already satisfied: scikit-learn in /Users/jenniferbadger/opt/anaconda3/lib/python3.8/site-packages (1.2.1)\r\n",
      "Requirement already satisfied: numpy>=1.17.3 in /Users/jenniferbadger/opt/anaconda3/lib/python3.8/site-packages (from scikit-learn) (1.24.1)\r\n",
      "Requirement already satisfied: scipy>=1.3.2 in /Users/jenniferbadger/opt/anaconda3/lib/python3.8/site-packages (from scikit-learn) (1.10.1)\r\n",
      "Requirement already satisfied: joblib>=1.1.1 in /Users/jenniferbadger/opt/anaconda3/lib/python3.8/site-packages (from scikit-learn) (1.4.2)\r\n",
      "Requirement already satisfied: threadpoolctl>=2.0.0 in /Users/jenniferbadger/opt/anaconda3/lib/python3.8/site-packages (from scikit-learn) (3.5.0)\r\n"
     ]
    }
   ],
   "source": [
    "#previously installed\n",
    "#!pip install pymupdf \n",
    "#!pip install googletrans==4.0.0-rc1 \n",
    "#!pip install nltk\n",
    "#!pip install spacy\n",
    "\n",
    "#!pip install gensim \n",
    "#!pip install pyLDAvis\n",
    "#!pip install scikit-learn"
   ]
  },
  {
   "cell_type": "markdown",
   "id": "1486568e",
   "metadata": {},
   "source": [
    "### Pre-NLP: Verify spacy install + Language Models"
   ]
  },
  {
   "cell_type": "code",
   "execution_count": 3,
   "id": "13b16d11",
   "metadata": {},
   "outputs": [
    {
     "name": "stdout",
     "output_type": "stream",
     "text": [
      "French tokens: ['Bonjour', 'tout', 'le', 'monde', '.']\n",
      "English tokens: ['Hello', 'everyone', '.']\n"
     ]
    }
   ],
   "source": [
    "#above install threw conflict errors\n",
    "#verifying proper install of spacy + language models\n",
    "\n",
    "import spacy\n",
    "\n",
    "# Load the spaCy models\n",
    "nlp_fr = spacy.load('fr_core_news_sm')\n",
    "nlp_en = spacy.load('en_core_web_sm')\n",
    "\n",
    "# Example French and English texts\n",
    "french_text = \"Bonjour tout le monde.\"\n",
    "english_text = \"Hello everyone.\"\n",
    "\n",
    "# Process the texts\n",
    "doc_fr = nlp_fr(french_text)\n",
    "doc_en = nlp_en(english_text)\n",
    "\n",
    "# Print tokens\n",
    "print(\"French tokens:\", [token.text for token in doc_fr])\n",
    "print(\"English tokens:\", [token.text for token in doc_en])"
   ]
  },
  {
   "cell_type": "markdown",
   "id": "f58b3a56",
   "metadata": {},
   "source": [
    "### Step 1: Extract Text from PDF"
   ]
  },
  {
   "cell_type": "code",
   "execution_count": 5,
   "id": "f81b5465",
   "metadata": {},
   "outputs": [
    {
     "name": "stdout",
     "output_type": "stream",
     "text": [
      "Extracted Text from Third Page:\n",
      " « V. – La politique en faveur de l’agriculture et de l’alimentation tient compte des spécificités des outre-mer \n",
      "ainsi que de l’ensemble des enjeux économiques, sociaux et environnementaux de ces territoires. Elle a pour \n",
      "objectif de favoriser le développement des productions agricoles d’outre-mer, en soutenant leur accès aux marchés, \n",
      "la recherche et l’innovation, l’organisation et la modernisation de l’agriculture par la structuration en filières \n",
      "organisées compétitives et durables, l’emploi, la satisfaction de la demande alimentaire locale par des productions \n",
      "locales, le développement des énergies renouvelables, des démarches de qualité particulières et de l’agriculture \n",
      "familiale, ainsi que de répondre aux spécificités de ces territoires en matière de santé des animaux et des végétaux. \n",
      "« VI. – La politique en faveur de l’agriculture et de l’alimentation tient compte des spécificités des territoires de \n",
      "montagne, en application de l’article 8 de la loi no 85-30 du 9 janvier 1985 relative au développement et à la \n",
      "protection de la montagne. Elle reconnaît la contribution positive des exploitations agricoles à l’entretien de \n",
      "l’espace et à la préservation des milieux naturels montagnards, notamment en termes de biodiversité. Elle concourt \n",
      "au maintien de l’activité agricole en montagne, en pérennisant les dispositifs de soutien spécifiques qui lui sont \n",
      "accordés pour lutter contre l’envahissement par la friche de l’espace pastoral et pour la préserver des préjudices \n",
      "causés par les grands prédateurs. \n",
      "« VII – La politique en faveur de l’agriculture et de l’alimentation tient compte des spécificités des zones \n",
      "humides, en application de l’article L. 211-1 du code de l’environnement. \n",
      "« Art. L. 2. – La politique des pêches maritimes, de l’aquaculture et des activités halioalimentaires définie à \n",
      "l’article L. 911-2 du présent code concourt à la politique de l’alimentation et au développement des régions \n",
      "littorales, en favorisant la compétitivité de la filière et la mise sur le marché de produits de qualité, dans le cadre \n",
      "d’une exploitation durable de la ressource. » \n",
      "II. – Après le 3o de l’article L. 111-2 du même code, il est inséré un 3o bis ainsi rédigé : \n",
      "« 3o bis Maintenir et développer les secteurs de l’élevage et du pastoralisme en raison de leur contribution \n",
      "essentielle à l’aménagement et au développement des territoires ; ». \n",
      "III. – L’article L. 121-1 du code forestier est ainsi modifié : \n",
      "a) Après le premier alinéa, sont insérés huit alinéas ainsi rédigés : \n",
      "« L’Etat veille : \n",
      "« 1o A l’adaptation des essences forestières au milieu ; \n",
      "« 2o A l’optimisation du stockage de carbone dans les bois et forêts, le bois et les produits fabriqués à partir de \n",
      "bois ; \n",
      "« 3o Au maintien de l’équilibre et de la diversité biologiques et à l’adaptation des forêts au changement \n",
      "climatique ; \n",
      "« 4o A la régénération des peuplements forestiers dans des conditions satisfaisantes d’équilibre sylvo- \n",
      "cynégétique, au sens du dernier alinéa de l’article L. 425-4 du code de l’environnement ; \n",
      "« 5o A la satisfaction des besoins des industries du bois, notamment par l’équilibre des classes d’âge des \n",
      "peuplements forestiers au niveau national ; \n",
      "« 6o Au renforcement de la compétitivité et de la durabilité des filières d’utilisation du bois, par la valorisation \n",
      "optimale des ressources forestières nationales et par l’accompagnement en formation des nouveaux métiers du \n",
      "bois ; \n",
      "« 7o Au développement des territoires. » ; \n",
      "b)  Le second alinéa est ainsi modifié : \n",
      "– au début de la première phrase, le mot : « Elle » est remplacé par les mots : « La politique forestière » ; \n",
      "– la troisième phrase est supprimée. \n",
      "IV. – L’article 1er de la loi no 99-574 du 9 juillet 1999 d’orientation agricole est abrogé. \n",
      "V. – A la première phrase du III de l’article 124 de la loi de finances pour 2002 (no 2001-1275 du 28 décembre \n",
      "2001), les mots : « du financement public institué à l’article 1er de la loi no 99-574 du 9 juillet 1999 précitée » sont \n",
      "remplacés par les mots : « d’un financement public ». \n",
      "TITRE IER \n",
      "PERFORMANCE ÉCONOMIQUE ET ENVIRONNEMENTALE \n",
      "DES FILIÈRES AGRICOLES ET AGRO-ALIMENTAIRES \n",
      "Article 2 \n",
      "I. – L’article L. 611-1 du code rural et de la pêche maritime est ainsi modifié : \n",
      "1o Le premier alinéa est ainsi modifié : \n",
      "a) Après le mot : « intéressés », sont insérés les mots : « , de l’établissement mentionné à l’article L. 621-1, de \n",
      "l’établissement mentionné à l’article L. 681-3, des régions » ; \n",
      "b) Après le mot : « alimentaires », sont insérés les mots : « et du Conseil national de la montagne » ; \n",
      "14 octobre 2014 \n",
      "JOURNAL OFFICIEL DE LA RÉPUBLIQUE FRANÇAISE \n",
      "Texte 1 sur 105 \n",
      "\n"
     ]
    }
   ],
   "source": [
    "import fitz  # PyMuPDF\n",
    "\n",
    "#Function to extract txt from pdf\n",
    "#debugging steps: commented out\n",
    "\n",
    "def pdf_to_text_third_page(pdf_path):\n",
    "    # Open the PDF file\n",
    "    doc = fitz.open(pdf_path)\n",
    "    \n",
    "    # Check the number of pages\n",
    "    #if len(doc) < 3:\n",
    "        #raise ValueError(\"The PDF does not contain a third page.\")\n",
    "    \n",
    "    # Load the third page (page indexing in PyMuPDF starts @ 0)\n",
    "    third_page = doc.load_page(2)\n",
    "    \n",
    "    # Extract text from the third page\n",
    "    text = third_page.get_text()\n",
    "    #if text is None:\n",
    "        #raise ValueError(\"No text found on the third page.\")\n",
    "    \n",
    "    return text\n",
    "\n",
    "#Le Loi\n",
    "pdf_path = '/Users/jenniferbadger/Dropbox/AI_course/NLP project/joe_20141014_0238_0001.pdf'\n",
    "\n",
    "# Step 1: Extract Text from PDF\n",
    "try:\n",
    "    third_page_text = pdf_to_text_third_page(pdf_path)\n",
    "    print(\"Extracted Text from Third Page:\\n\", third_page_text)\n",
    "except ValueError as e:\n",
    "    print(e)\n",
    "    third_page_text = \"\""
   ]
  },
  {
   "cell_type": "code",
   "execution_count": null,
   "id": "eb847230",
   "metadata": {},
   "outputs": [],
   "source": []
  }
 ],
 "metadata": {
  "kernelspec": {
   "display_name": "Python 3 (ipykernel)",
   "language": "python",
   "name": "python3"
  },
  "language_info": {
   "codemirror_mode": {
    "name": "ipython",
    "version": 3
   },
   "file_extension": ".py",
   "mimetype": "text/x-python",
   "name": "python",
   "nbconvert_exporter": "python",
   "pygments_lexer": "ipython3",
   "version": "3.8.15"
  }
 },
 "nbformat": 4,
 "nbformat_minor": 5
}
